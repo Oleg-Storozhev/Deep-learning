{
 "cells": [
  {
   "cell_type": "markdown",
   "id": "frequent-logging",
   "metadata": {
    "id": "KKlKlv7Nvhk8",
    "papermill": {
     "duration": 0.034893,
     "end_time": "2021-03-17T20:02:37.506726",
     "exception": false,
     "start_time": "2021-03-17T20:02:37.471833",
     "status": "completed"
    },
    "tags": []
   },
   "source": [
    "# Logistic Regression with a Neural Network mindset (credits to Andrew Ng, Deep Learning course on Coursera)\n",
    "\n",
    "Welcome to your first (required) programming assignment! You will build a logistic regression classifier to recognize  cats. This assignment will step you through how to do this with a Neural Network mindset, and so will also hone your intuitions about deep learning.\n",
    "\n",
    "**Instructions:**\n",
    "- Do not use loops (for/while) in your code, unless the instructions explicitly ask you to do so.\n",
    "\n",
    "**You will learn to:**\n",
    "- Build the general architecture of a learning algorithm, including:\n",
    "    - Initializing parameters\n",
    "    - Calculating the cost function and its gradient\n",
    "    - Using an optimization algorithm (gradient descent) \n",
    "- Gather all three functions above into a main model function, in the right order."
   ]
  },
  {
   "cell_type": "markdown",
   "id": "modified-figure",
   "metadata": {
    "id": "8YVgSPD6vhlI",
    "papermill": {
     "duration": 0.033069,
     "end_time": "2021-03-17T20:02:37.575356",
     "exception": false,
     "start_time": "2021-03-17T20:02:37.542287",
     "status": "completed"
    },
    "tags": []
   },
   "source": [
    "## <font color='red'>Updates</font>\n",
    "This notebook has been updated over the past few months.  The prior version was named \"v5\", and the current versionis now named '6a'\n",
    "\n",
    "#### If you were working on a previous version:\n",
    "* You can find your prior work by looking in the file directory for the older files (named by version name).\n",
    "* To view the file directory, click on the \"Coursera\" icon in the top left corner of this notebook.\n",
    "* Please copy your work from the older versions to the new version, in order to submit your work for grading.\n",
    "\n",
    "#### List of Updates\n",
    "* Forward propagation formula, indexing now starts at 1 instead of 0.\n",
    "* Optimization function comment now says \"print cost every 100 training iterations\" instead of \"examples\".\n",
    "* Fixed grammar in the comments.\n",
    "* Y_prediction_test variable name is used consistently.\n",
    "* Plot's axis label now says \"iterations (hundred)\" instead of \"iterations\".\n",
    "* When testing the model, the test image is normalized by dividing by 255."
   ]
  },
  {
   "cell_type": "markdown",
   "id": "written-tradition",
   "metadata": {
    "id": "Bv-uJ7EFvhlJ",
    "papermill": {
     "duration": 0.034179,
     "end_time": "2021-03-17T20:02:37.642848",
     "exception": false,
     "start_time": "2021-03-17T20:02:37.608669",
     "status": "completed"
    },
    "tags": []
   },
   "source": [
    "# 1 - Packages #\n",
    "\n",
    "First, let's run the cell below to import all the packages that you will need during this assignment. \n",
    "- [numpy](www.numpy.org) is the fundamental package for scientific computing with Python.\n",
    "- [h5py](http://www.h5py.org) is a common package to interact with a dataset that is stored on an H5 file.\n",
    "- [matplotlib](http://matplotlib.org) is a famous library to plot graphs in Python.\n",
    "- [PIL](http://www.pythonware.com/products/pil/) and [scipy](https://www.scipy.org/) are used here to test your model with your own picture at the end."
   ]
  },
  {
   "cell_type": "code",
   "execution_count": 2,
   "id": "behavioral-bonus",
   "metadata": {
    "execution": {
     "iopub.execute_input": "2021-03-17T20:02:37.715839Z",
     "iopub.status.busy": "2021-03-17T20:02:37.715220Z",
     "iopub.status.idle": "2021-03-17T20:02:38.226399Z",
     "shell.execute_reply": "2021-03-17T20:02:38.226911Z"
    },
    "id": "gUBK6P0mvhlK",
    "papermill": {
     "duration": 0.551037,
     "end_time": "2021-03-17T20:02:38.227229",
     "exception": false,
     "start_time": "2021-03-17T20:02:37.676192",
     "status": "completed"
    },
    "tags": []
   },
   "outputs": [],
   "source": [
    "import numpy as np\n",
    "import matplotlib.pyplot as plt\n",
    "import h5py\n",
    "import scipy\n",
    "from PIL import Image\n",
    "from scipy import ndimage\n",
    "\n",
    "%matplotlib inline"
   ]
  },
  {
   "cell_type": "markdown",
   "id": "valid-genome",
   "metadata": {
    "id": "AUeuoZVRvhlL",
    "papermill": {
     "duration": 0.033005,
     "end_time": "2021-03-17T20:02:38.294149",
     "exception": false,
     "start_time": "2021-03-17T20:02:38.261144",
     "status": "completed"
    },
    "tags": []
   },
   "source": [
    "# 2 - Overview of the Problem set #\n",
    "\n",
    "**Problem Statement**: You are given a dataset (\"data.h5\") containing:\n",
    "    - a training set of m_train images labeled as cat (y=1) or non-cat (y=0)\n",
    "    - a test set of m_test images labeled as cat or non-cat\n",
    "    - each image is of shape (num_px, num_px, 3) where 3 is for the 3 channels (RGB). Thus, each image is square (height = num_px) and (width = num_px).\n",
    "\n",
    "You will build a simple image-recognition algorithm that can correctly classify pictures as cat or non-cat.\n",
    "\n",
    "Let's get more familiar with the dataset. Load the data by running the following code."
   ]
  },
  {
   "cell_type": "code",
   "execution_count": 7,
   "id": "handled-forty",
   "metadata": {
    "execution": {
     "iopub.execute_input": "2021-03-17T20:02:38.364185Z",
     "iopub.status.busy": "2021-03-17T20:02:38.363540Z",
     "iopub.status.idle": "2021-03-17T20:02:38.371665Z",
     "shell.execute_reply": "2021-03-17T20:02:38.371102Z"
    },
    "papermill": {
     "duration": 0.044638,
     "end_time": "2021-03-17T20:02:38.371859",
     "exception": false,
     "start_time": "2021-03-17T20:02:38.327221",
     "status": "completed"
    },
    "tags": []
   },
   "outputs": [],
   "source": [
    "def load_dataset():\n",
    "    train_dataset = h5py.File('train_catvnoncat.h5', \"r\")\n",
    "    train_set_x_orig = np.array(train_dataset[\"train_set_x\"][:]) \n",
    "    train_set_y_orig = np.array(train_dataset[\"train_set_y\"][:]) \n",
    "\n",
    "    test_dataset = h5py.File('test_catvnoncat.h5', \"r\")\n",
    "    test_set_x_orig = np.array(test_dataset[\"test_set_x\"][:]) \n",
    "    test_set_y_orig = np.array(test_dataset[\"test_set_y\"][:]) \n",
    "\n",
    "    classes = np.array(test_dataset[\"list_classes\"][:]) \n",
    "    \n",
    "    train_set_y_orig = train_set_y_orig.reshape((1, train_set_y_orig.shape[0]))\n",
    "    test_set_y_orig = test_set_y_orig.reshape((1, test_set_y_orig.shape[0]))\n",
    "    \n",
    "    return train_set_x_orig, train_set_y_orig, test_set_x_orig, test_set_y_orig, classes"
   ]
  },
  {
   "cell_type": "code",
   "execution_count": 9,
   "id": "widespread-participant",
   "metadata": {
    "execution": {
     "iopub.execute_input": "2021-03-17T20:02:38.442137Z",
     "iopub.status.busy": "2021-03-17T20:02:38.441516Z",
     "iopub.status.idle": "2021-03-17T20:02:38.556780Z",
     "shell.execute_reply": "2021-03-17T20:02:38.557274Z"
    },
    "id": "KMJBkOU0vhlM",
    "papermill": {
     "duration": 0.152098,
     "end_time": "2021-03-17T20:02:38.557527",
     "exception": false,
     "start_time": "2021-03-17T20:02:38.405429",
     "status": "completed"
    },
    "tags": []
   },
   "outputs": [],
   "source": [
    "# Loading the data (cat/non-cat)\n",
    "train_set_x_orig, train_set_y, test_set_x_orig, test_set_y, classes = load_dataset()"
   ]
  },
  {
   "cell_type": "markdown",
   "id": "offshore-tamil",
   "metadata": {
    "id": "TEfwOezjvhlN",
    "papermill": {
     "duration": 0.033357,
     "end_time": "2021-03-17T20:02:38.624838",
     "exception": false,
     "start_time": "2021-03-17T20:02:38.591481",
     "status": "completed"
    },
    "tags": []
   },
   "source": [
    "We added \"_orig\" at the end of image datasets (train and test) because we are going to preprocess them. After preprocessing, we will end up with train_set_x and test_set_x (the labels train_set_y and test_set_y don't need any preprocessing).\n",
    "\n",
    "Each line of your train_set_x_orig and test_set_x_orig is an array representing an image. You can visualize an example by running the following code. Feel free also to change the `index` value and re-run to see other images. "
   ]
  },
  {
   "cell_type": "code",
   "execution_count": 11,
   "id": "motivated-longer",
   "metadata": {
    "execution": {
     "iopub.execute_input": "2021-03-17T20:02:38.696314Z",
     "iopub.status.busy": "2021-03-17T20:02:38.695574Z",
     "iopub.status.idle": "2021-03-17T20:02:38.869071Z",
     "shell.execute_reply": "2021-03-17T20:02:38.868453Z"
    },
    "id": "yPk9jiLdvhlN",
    "outputId": "ea06c748-757f-43ee-e78b-9cd201c804af",
    "papermill": {
     "duration": 0.210442,
     "end_time": "2021-03-17T20:02:38.869220",
     "exception": false,
     "start_time": "2021-03-17T20:02:38.658778",
     "status": "completed"
    },
    "tags": []
   },
   "outputs": [
    {
     "name": "stdout",
     "output_type": "stream",
     "text": [
      "y = [0], it's a 'non-cat' picture.\n"
     ]
    },
    {
     "data": {
      "text/plain": "<Figure size 432x288 with 1 Axes>",
      "image/png": "[encoded data removed]"
     },
     "metadata": {
      "needs_background": "light"
     },
     "output_type": "display_data"
    }
   ],
   "source": [
    "# Example of a picture\n",
    "index = 64\n",
    "plt.imshow(train_set_x_orig[index])\n",
    "print (\"y = \" + str(train_set_y[:, index]) + \", it's a '\" + classes[np.squeeze(train_set_y[:, index])].decode(\"utf-8\") +  \"' picture.\")"
   ]
  },
  {
   "cell_type": "markdown",
   "id": "driving-congress",
   "metadata": {
    "id": "Dn_7nyWDvhlP",
    "papermill": {
     "duration": 0.03531,
     "end_time": "2021-03-17T20:02:38.940670",
     "exception": false,
     "start_time": "2021-03-17T20:02:38.905360",
     "status": "completed"
    },
    "tags": []
   },
   "source": [
    "Many software bugs in deep learning come from having matrix/vector dimensions that don't fit. If you can keep your matrix/vector dimensions straight you will go a long way toward eliminating many bugs. \n",
    "\n",
    "**Exercise:** Find the values for:\n",
    "    - m_train (number of training examples)\n",
    "    - m_test (number of test examples)\n",
    "    - num_px (= height = width of a training image)\n",
    "Remember that `train_set_x_orig` is a numpy-array of shape (m_train, num_px, num_px, 3). For instance, you can access `m_train` by writing `train_set_x_orig.shape[0]`."
   ]
  },
  {
   "cell_type": "code",
   "execution_count": 12,
   "id": "brazilian-buddy",
   "metadata": {
    "execution": {
     "iopub.execute_input": "2021-03-17T20:02:39.018125Z",
     "iopub.status.busy": "2021-03-17T20:02:39.017438Z",
     "iopub.status.idle": "2021-03-17T20:02:39.080884Z",
     "shell.execute_reply": "2021-03-17T20:02:39.080225Z"
    },
    "id": "DIQBlQqrvhlQ",
    "outputId": "14a2ea44-3af6-4d61-b5d4-e87c10643bd2",
    "papermill": {
     "duration": 0.104926,
     "end_time": "2021-03-17T20:02:39.081096",
     "exception": false,
     "start_time": "2021-03-17T20:02:38.976170",
     "status": "completed"
    },
    "scrolled": true,
    "tags": []
   },
   "outputs": [
    {
     "name": "stdout",
     "output_type": "stream",
     "text": [
      "Number of training examples: m_train = 209\n",
      "Number of testing examples: m_test = 50\n",
      "Height/Width of each image: num_px = 64\n",
      "Each image is of size: (64, 64, 3)\n",
      "train_set_x shape: (209, 64, 64, 3)\n",
      "train_set_y shape: (1, 209)\n",
      "test_set_x shape: (50, 64, 64, 3)\n",
      "test_set_y shape: (1, 50)\n"
     ]
    }
   ],
   "source": [
    "### START CODE HERE ### (≈ 3 lines of code)\n",
    "m_train = train_set_x_orig.shape[0]\n",
    "m_test = test_set_x_orig.shape[0]\n",
    "num_px = train_set_x_orig.shape[1]\n",
    "### END CODE HERE ###\n",
    "\n",
    "print (\"Number of training examples: m_train = \" + str(m_train))\n",
    "print (\"Number of testing examples: m_test = \" + str(m_test))\n",
    "print (\"Height/Width of each image: num_px = \" + str(num_px))\n",
    "print (\"Each image is of size: (\" + str(num_px) + \", \" + str(num_px) + \", 3)\")\n",
    "print (\"train_set_x shape: \" + str(train_set_x_orig.shape))\n",
    "print (\"train_set_y shape: \" + str(train_set_y.shape))\n",
    "print (\"test_set_x shape: \" + str(test_set_x_orig.shape))\n",
    "print (\"test_set_y shape: \" + str(test_set_y.shape))"
   ]
  },
  {
   "cell_type": "markdown",
   "id": "south-swimming",
   "metadata": {
    "id": "bFXa9-z_vhlR",
    "papermill": {
     "duration": 0.036417,
     "end_time": "2021-03-17T20:02:39.153561",
     "exception": false,
     "start_time": "2021-03-17T20:02:39.117144",
     "status": "completed"
    },
    "tags": []
   },
   "source": [
    "**Expected Output for m_train, m_test and num_px**: \n",
    "<table>\n",
    "  <tr>\n",
    "    <td>m_train</td>\n",
    "    <td> 209 </td> \n",
    "  </tr>\n",
    "  \n",
    "  <tr>\n",
    "    <td>m_test</td>\n",
    "    <td> 50 </td> \n",
    "  </tr>\n",
    "  \n",
    "  <tr>\n",
    "    <td>num_px</td>\n",
    "    <td> 64 </td> \n",
    "  </tr>\n",
    "  \n",
    "</table>\n"
   ]
  },
  {
   "cell_type": "markdown",
   "id": "revised-scholarship",
   "metadata": {
    "id": "FUYJdflLvhlR",
    "papermill": {
     "duration": 0.03611,
     "end_time": "2021-03-17T20:02:39.225939",
     "exception": false,
     "start_time": "2021-03-17T20:02:39.189829",
     "status": "completed"
    },
    "tags": []
   },
   "source": [
    "For convenience, you should now reshape images of shape (num_px, num_px, 3) in a numpy-array of shape (num_px $*$ num_px $*$ 3, 1). After this, our training (and test) dataset is a numpy-array where each column represents a flattened image. There should be m_train (respectively m_test) columns.\n",
    "\n",
    "**Exercise:** Reshape the training and test data sets so that images of size (num_px, num_px, 3) are flattened into single vectors of shape (num\\_px $*$ num\\_px $*$ 3, 1).\n",
    "\n",
    "A trick when you want to flatten a matrix X of shape (a,b,c,d) to a matrix X_flatten of shape (b$*$c$*$d, a) is to use: \n",
    "```python\n",
    "X_flatten = X.reshape(X.shape[0], -1).T      # X.T is the transpose of X\n",
    "```"
   ]
  },
  {
   "cell_type": "code",
   "execution_count": 13,
   "id": "raised-heavy",
   "metadata": {
    "execution": {
     "iopub.execute_input": "2021-03-17T20:02:39.313454Z",
     "iopub.status.busy": "2021-03-17T20:02:39.311432Z",
     "iopub.status.idle": "2021-03-17T20:02:39.317873Z",
     "shell.execute_reply": "2021-03-17T20:02:39.318392Z"
    },
    "id": "AP2IjEfEvhlS",
    "outputId": "247c16a2-5839-4e14-977a-8dc353eb3a07",
    "papermill": {
     "duration": 0.056227,
     "end_time": "2021-03-17T20:02:39.318572",
     "exception": false,
     "start_time": "2021-03-17T20:02:39.262345",
     "status": "completed"
    },
    "tags": []
   },
   "outputs": [
    {
     "name": "stdout",
     "output_type": "stream",
     "text": [
      "train_set_x_flatten shape: (12288, 209)\n",
      "train_set_y shape: (1, 209)\n",
      "test_set_x_flatten shape: (12288, 50)\n",
      "test_set_y shape: (1, 50)\n",
      "sanity check after reshaping: [17 31 56 22 33]\n"
     ]
    }
   ],
   "source": [
    "# Reshape the training and test examples\n",
    "\n",
    "### START CODE HERE ### (≈ 2 lines of code)\n",
    "train_set_x_flatten = train_set_x_orig.reshape(train_set_x_orig.shape[0], -1).T\n",
    "test_set_x_flatten = test_set_x_orig.reshape(test_set_x_orig.shape[0], -1).T\n",
    "### END CODE HERE ###\n",
    "\n",
    "print (\"train_set_x_flatten shape: \" + str(train_set_x_flatten.shape))\n",
    "print (\"train_set_y shape: \" + str(train_set_y.shape))\n",
    "print (\"test_set_x_flatten shape: \" + str(test_set_x_flatten.shape))\n",
    "print (\"test_set_y shape: \" + str(test_set_y.shape))\n",
    "print (\"sanity check after reshaping: \" + str(train_set_x_flatten[0:5,0]))"
   ]
  },
  {
   "cell_type": "markdown",
   "id": "horizontal-advertising",
   "metadata": {
    "id": "Y1CSdAZpvhlT",
    "papermill": {
     "duration": 0.03667,
     "end_time": "2021-03-17T20:02:39.391747",
     "exception": false,
     "start_time": "2021-03-17T20:02:39.355077",
     "status": "completed"
    },
    "tags": []
   },
   "source": [
    "**Expected Output**: \n",
    "\n",
    "<table>\n",
    "  <tr>\n",
    "    <td>train_set_x_flatten shape</td>\n",
    "    <td> (12288, 209)</td> \n",
    "  </tr>\n",
    "  <tr>\n",
    "    <td>train_set_y shape</td>\n",
    "    <td>(1, 209)</td> \n",
    "  </tr>\n",
    "  <tr>\n",
    "    <td>test_set_x_flatten shape</td>\n",
    "    <td>(12288, 50)</td> \n",
    "  </tr>\n",
    "  <tr>\n",
    "    <td>test_set_y shape</td>\n",
    "    <td>(1, 50)</td> \n",
    "  </tr>\n",
    "  <tr>\n",
    "  <td>sanity check after reshaping</td>\n",
    "  <td>[17 31 56 22 33]</td> \n",
    "  </tr>\n",
    "</table>"
   ]
  },
  {
   "cell_type": "markdown",
   "id": "breeding-binary",
   "metadata": {
    "id": "EO8eY6XDvhlT",
    "papermill": {
     "duration": 0.036804,
     "end_time": "2021-03-17T20:02:39.465537",
     "exception": false,
     "start_time": "2021-03-17T20:02:39.428733",
     "status": "completed"
    },
    "tags": []
   },
   "source": [
    "To represent color images, the red, green and blue channels (RGB) must be specified for each pixel, and so the pixel value is actually a vector of three numbers ranging from 0 to 255.\n",
    "\n",
    "One common preprocessing step in machine learning is to center and standardize your dataset, meaning that you substract the mean of the whole numpy array from each example, and then divide each example by the standard deviation of the whole numpy array. But for picture datasets, it is simpler and more convenient and works almost as well to just divide every row of the dataset by 255 (the maximum value of a pixel channel).\n",
    "\n",
    "<!-- During the training of your model, you're going to multiply weights and add biases to some initial inputs in order to observe neuron activations. Then you backpropogate with the gradients to train the model. But, it is extremely important for each feature to have a similar range such that our gradients don't explode. You will see that more in detail later in the lectures. !--> \n",
    "\n",
    "Let's standardize our dataset."
   ]
  },
  {
   "cell_type": "code",
   "execution_count": 14,
   "id": "celtic-sweet",
   "metadata": {
    "collapsed": true,
    "execution": {
     "iopub.execute_input": "2021-03-17T20:02:39.552334Z",
     "iopub.status.busy": "2021-03-17T20:02:39.551353Z",
     "iopub.status.idle": "2021-03-17T20:02:39.556113Z",
     "shell.execute_reply": "2021-03-17T20:02:39.555611Z"
    },
    "id": "ikMwX1R-vhlU",
    "papermill": {
     "duration": 0.053957,
     "end_time": "2021-03-17T20:02:39.556248",
     "exception": false,
     "start_time": "2021-03-17T20:02:39.502291",
     "status": "completed"
    },
    "tags": []
   },
   "outputs": [],
   "source": [
    "train_set_x = train_set_x_flatten/255.\n",
    "test_set_x = test_set_x_flatten/255."
   ]
  },
  {
   "cell_type": "markdown",
   "id": "saved-saskatchewan",
   "metadata": {
    "id": "7ro_2f4XvhlV",
    "papermill": {
     "duration": 0.036889,
     "end_time": "2021-03-17T20:02:39.629967",
     "exception": false,
     "start_time": "2021-03-17T20:02:39.593078",
     "status": "completed"
    },
    "tags": []
   },
   "source": [
    "<font color='blue'>\n",
    "**What you need to remember:**\n",
    "\n",
    "Common steps for pre-processing a new dataset are:\n",
    "- Figure out the dimensions and shapes of the problem (m_train, m_test, num_px, ...)\n",
    "- Reshape the datasets such that each example is now a vector of size (num_px \\* num_px \\* 3, 1)\n",
    "- \"Standardize\" the data"
   ]
  },
  {
   "cell_type": "markdown",
   "id": "north-magic",
   "metadata": {
    "id": "8PsH6OWWvhlV",
    "papermill": {
     "duration": 0.036616,
     "end_time": "2021-03-17T20:02:39.704008",
     "exception": false,
     "start_time": "2021-03-17T20:02:39.667392",
     "status": "completed"
    },
    "tags": []
   },
   "source": [
    "# 3 - General Architecture of the learning algorithm #\n",
    "\n",
    "It's time to design a simple algorithm to distinguish cat images from non-cat images.\n",
    "\n",
    "You will build a Logistic Regression, using a Neural Network mindset. The following Figure explains why **Logistic Regression is actually a very simple Neural Network!**\n",
    "\n",
    "<img src=\"images/LogReg_kiank.png\" style=\"width:650px;height:400px;\">\n",
    "\n",
    "**Mathematical expression of the algorithm**:\n",
    "\n",
    "For one example $x^{(i)}$:\n",
    "$$z^{(i)} = w^T x^{(i)} + b \\tag{1}$$\n",
    "$$\\hat{y}^{(i)} = a^{(i)} = sigmoid(z^{(i)})\\tag{2}$$ \n",
    "$$ \\mathcal{L}(a^{(i)}, y^{(i)}) =  - y^{(i)}  \\log(a^{(i)}) - (1-y^{(i)} )  \\log(1-a^{(i)})\\tag{3}$$\n",
    "\n",
    "The cost is then computed by summing over all training examples:\n",
    "$$ J = \\frac{1}{m} \\sum_{i=1}^m \\mathcal{L}(a^{(i)}, y^{(i)})\\tag{6}$$\n",
    "\n",
    "**Key steps**:\n",
    "In this exercise, you will carry out the following steps: \n",
    "    - Initialize the parameters of the model\n",
    "    - Learn the parameters for the model by minimizing the cost  \n",
    "    - Use the learned parameters to make predictions (on the test set)\n",
    "    - Analyse the results and conclude"
   ]
  },
  {
   "cell_type": "markdown",
   "id": "abstract-chemistry",
   "metadata": {
    "id": "rEncvGO3vhlW",
    "papermill": {
     "duration": 0.037013,
     "end_time": "2021-03-17T20:02:39.779058",
     "exception": false,
     "start_time": "2021-03-17T20:02:39.742045",
     "status": "completed"
    },
    "tags": []
   },
   "source": [
    "# 4 - Building the parts of our algorithm #\n",
    "\n",
    "The main steps for building a Neural Network are:\n",
    "1. Define the model structure (such as number of input features) \n",
    "2. Initialize the model's parameters\n",
    "3. Loop:\n",
    "    - Calculate current loss (forward propagation)\n",
    "    - Calculate current gradient (backward propagation)\n",
    "    - Update parameters (gradient descent)\n",
    "\n",
    "You often build 1-3 separately and integrate them into one function we call `model()`.\n",
    "\n",
    "### 4.1 - Helper functions\n",
    "\n",
    "**Exercise**: Using your code from \"Python Basics\", implement `sigmoid()`. As you've seen in the figure above, you need to compute $sigmoid( w^T x + b) = \\frac{1}{1 + e^{-(w^T x + b)}}$ to make predictions. Use np.exp()."
   ]
  },
  {
   "cell_type": "code",
   "execution_count": 15,
   "id": "deluxe-surfing",
   "metadata": {
    "collapsed": true,
    "execution": {
     "iopub.execute_input": "2021-03-17T20:02:39.859712Z",
     "iopub.status.busy": "2021-03-17T20:02:39.858749Z",
     "iopub.status.idle": "2021-03-17T20:02:39.861383Z",
     "shell.execute_reply": "2021-03-17T20:02:39.861851Z"
    },
    "id": "slpquZ46vhlX",
    "papermill": {
     "duration": 0.04553,
     "end_time": "2021-03-17T20:02:39.862025",
     "exception": false,
     "start_time": "2021-03-17T20:02:39.816495",
     "status": "completed"
    },
    "tags": []
   },
   "outputs": [],
   "source": [
    "# GRADED FUNCTION: sigmoid\n",
    "\n",
    "def sigmoid(z):\n",
    "    \"\"\"\n",
    "    Compute the sigmoid of z\n",
    "\n",
    "    Arguments:\n",
    "    z -- A scalar or numpy array of any size.\n",
    "\n",
    "    Return:\n",
    "    s -- sigmoid(z)\n",
    "    \"\"\"\n",
    "\n",
    "    ### START CODE HERE ### (≈ 1 line of code)\n",
    "    s = 1/(1+np.exp(-z))\n",
    "    ### END CODE HERE ###\n",
    "    \n",
    "    return s"
   ]
  },
  {
   "cell_type": "code",
   "execution_count": 16,
   "id": "sustained-judge",
   "metadata": {
    "execution": {
     "iopub.execute_input": "2021-03-17T20:02:39.958074Z",
     "iopub.status.busy": "2021-03-17T20:02:39.957232Z",
     "iopub.status.idle": "2021-03-17T20:02:39.961719Z",
     "shell.execute_reply": "2021-03-17T20:02:39.961146Z"
    },
    "id": "wljJmEiYvhlY",
    "outputId": "da615651-41a4-4772-b13b-e9c6799c1c11",
    "papermill": {
     "duration": 0.062518,
     "end_time": "2021-03-17T20:02:39.961875",
     "exception": false,
     "start_time": "2021-03-17T20:02:39.899357",
     "status": "completed"
    },
    "scrolled": true,
    "tags": []
   },
   "outputs": [
    {
     "name": "stdout",
     "output_type": "stream",
     "text": [
      "sigmoid([0, 2]) = [0.5        0.88079708]\n"
     ]
    }
   ],
   "source": [
    "print (\"sigmoid([0, 2]) = \" + str(sigmoid(np.array([0,2]))))"
   ]
  },
  {
   "cell_type": "markdown",
   "id": "aerial-quilt",
   "metadata": {
    "id": "ft8LlnvlvhlZ",
    "papermill": {
     "duration": 0.03775,
     "end_time": "2021-03-17T20:02:40.037369",
     "exception": false,
     "start_time": "2021-03-17T20:02:39.999619",
     "status": "completed"
    },
    "tags": []
   },
   "source": [
    "**Expected Output**: \n",
    "\n",
    "<table>\n",
    "  <tr>\n",
    "    <td>sigmoid([0, 2])</td>\n",
    "    <td> [ 0.5         0.88079708]</td> \n",
    "  </tr>\n",
    "</table>"
   ]
  },
  {
   "cell_type": "markdown",
   "id": "italian-literacy",
   "metadata": {
    "id": "RhdWc0dbvhlZ",
    "papermill": {
     "duration": 0.044932,
     "end_time": "2021-03-17T20:02:40.131055",
     "exception": false,
     "start_time": "2021-03-17T20:02:40.086123",
     "status": "completed"
    },
    "tags": []
   },
   "source": [
    "### 4.2 - Initializing parameters\n",
    "\n",
    "**Exercise:** Implement parameter initialization in the cell below. You have to initialize w as a vector of zeros. If you don't know what numpy function to use, look up np.zeros() in the Numpy library's documentation."
   ]
  },
  {
   "cell_type": "code",
   "execution_count": 19,
   "id": "polished-signal",
   "metadata": {
    "collapsed": true,
    "execution": {
     "iopub.execute_input": "2021-03-17T20:02:40.225269Z",
     "iopub.status.busy": "2021-03-17T20:02:40.224244Z",
     "iopub.status.idle": "2021-03-17T20:02:40.226742Z",
     "shell.execute_reply": "2021-03-17T20:02:40.226121Z"
    },
    "id": "35eUiO5EvhlZ",
    "papermill": {
     "duration": 0.050487,
     "end_time": "2021-03-17T20:02:40.226876",
     "exception": false,
     "start_time": "2021-03-17T20:02:40.176389",
     "status": "completed"
    },
    "tags": []
   },
   "outputs": [],
   "source": [
    "# GRADED FUNCTION: initialize_with_zeros\n",
    "\n",
    "def initialize_with_zeros(dim):\n",
    "    \"\"\"\n",
    "    This function creates a vector of zeros of shape (dim, 1) for w and initializes b to 0.\n",
    "    \n",
    "    Argument:\n",
    "    dim -- size of the w vector we want (or number of parameters in this case)\n",
    "    \n",
    "    Returns:\n",
    "    w -- initialized vector of shape (dim, 1)\n",
    "    b -- initialized scalar (corresponds to the bias)\n",
    "    \"\"\"\n",
    "    \n",
    "    ### START CODE HERE ### (≈ 1 line of code)\n",
    "    w, b = np.zeros((dim,1)), 0\n",
    "    ### END CODE HERE ###\n",
    "\n",
    "    assert(w.shape == (dim, 1))\n",
    "    assert(isinstance(b, float) or isinstance(b, int))\n",
    "    \n",
    "    return w, b"
   ]
  },
  {
   "cell_type": "code",
   "execution_count": 20,
   "id": "portable-question",
   "metadata": {
    "execution": {
     "iopub.execute_input": "2021-03-17T20:02:40.325341Z",
     "iopub.status.busy": "2021-03-17T20:02:40.324334Z",
     "iopub.status.idle": "2021-03-17T20:02:40.329973Z",
     "shell.execute_reply": "2021-03-17T20:02:40.329480Z"
    },
    "id": "PXYRI2n5vhla",
    "outputId": "9a59bfe5-25af-43c7-b608-9b3fa577f490",
    "papermill": {
     "duration": 0.065117,
     "end_time": "2021-03-17T20:02:40.330131",
     "exception": false,
     "start_time": "2021-03-17T20:02:40.265014",
     "status": "completed"
    },
    "tags": []
   },
   "outputs": [
    {
     "name": "stdout",
     "output_type": "stream",
     "text": [
      "w = [[0.]\n",
      " [0.]]\n",
      "b = 0\n"
     ]
    }
   ],
   "source": [
    "dim = 2\n",
    "w, b = initialize_with_zeros(dim)\n",
    "print (\"w = \" + str(w))\n",
    "print (\"b = \" + str(b))"
   ]
  },
  {
   "cell_type": "markdown",
   "id": "fiscal-commitment",
   "metadata": {
    "id": "ccQAEjfmvhlb",
    "papermill": {
     "duration": 0.038233,
     "end_time": "2021-03-17T20:02:40.407199",
     "exception": false,
     "start_time": "2021-03-17T20:02:40.368966",
     "status": "completed"
    },
    "tags": []
   },
   "source": [
    "**Expected Output**: \n",
    "\n",
    "\n",
    "<table>\n",
    "    <tr>\n",
    "        <td>w</td>\n",
    "        <td> [[ 0.]\n",
    " [ 0.]] </td>\n",
    "    </tr>\n",
    "    <tr>\n",
    "        <td>b</td>\n",
    "        <td> 0 </td>\n",
    "    </tr>\n",
    "</table>\n",
    "\n",
    "For image inputs, w will be of shape (num_px $\\times$ num_px $\\times$ 3, 1)."
   ]
  },
  {
   "cell_type": "markdown",
   "id": "trained-torture",
   "metadata": {
    "id": "2uJjEOuOvhlc",
    "papermill": {
     "duration": 0.038192,
     "end_time": "2021-03-17T20:02:40.483706",
     "exception": false,
     "start_time": "2021-03-17T20:02:40.445514",
     "status": "completed"
    },
    "tags": []
   },
   "source": [
    "### 4.3 - Forward and Backward propagation\n",
    "\n",
    "Now that your parameters are initialized, you can do the \"forward\" and \"backward\" propagation steps for learning the parameters.\n",
    "\n",
    "**Exercise:** Implement a function `propagate()` that computes the cost function and its gradient.\n",
    "\n",
    "**Hints**:\n",
    "\n",
    "Forward Propagation:\n",
    "- You get X\n",
    "- You compute $A = \\sigma(w^T X + b) = (a^{(1)}, a^{(2)}, ..., a^{(m-1)}, a^{(m)})$\n",
    "- You calculate the cost function: $J = -\\frac{1}{m}\\sum_{i=1}^{m}y^{(i)}\\log(a^{(i)})+(1-y^{(i)})\\log(1-a^{(i)})$\n",
    "\n",
    "Here are the two formulas you will be using: \n",
    "\n",
    "$$ \\frac{\\partial J}{\\partial w} = \\frac{1}{m}X(A-Y)^T\\tag{7}$$\n",
    "$$ \\frac{\\partial J}{\\partial b} = \\frac{1}{m} \\sum_{i=1}^m (a^{(i)}-y^{(i)})\\tag{8}$$"
   ]
  },
  {
   "cell_type": "code",
   "execution_count": 27,
   "id": "nasty-overall",
   "metadata": {
    "collapsed": true,
    "execution": {
     "iopub.execute_input": "2021-03-17T20:02:40.568135Z",
     "iopub.status.busy": "2021-03-17T20:02:40.567445Z",
     "iopub.status.idle": "2021-03-17T20:02:40.570358Z",
     "shell.execute_reply": "2021-03-17T20:02:40.569818Z"
    },
    "id": "Yapeq6-svhld",
    "papermill": {
     "duration": 0.048618,
     "end_time": "2021-03-17T20:02:40.570498",
     "exception": false,
     "start_time": "2021-03-17T20:02:40.521880",
     "status": "completed"
    },
    "tags": []
   },
   "outputs": [],
   "source": [
    "# GRADED FUNCTION: propagate\n",
    "\n",
    "def propagate(w, b, X, Y):\n",
    "    \"\"\"\n",
    "    Implement the cost function and its gradient for the propagation explained above\n",
    "\n",
    "    Arguments:\n",
    "    w -- weights, a numpy array of size (num_px * num_px * 3, 1)\n",
    "    b -- bias, a scalar\n",
    "    X -- data of size (num_px * num_px * 3, number of examples)\n",
    "    Y -- true \"label\" vector (containing 0 if non-cat, 1 if cat) of size (1, number of examples)\n",
    "\n",
    "    Return:\n",
    "    cost -- negative log-likelihood cost for logistic regression\n",
    "    dw -- gradient of the loss with respect to w, thus same shape as w\n",
    "    db -- gradient of the loss with respect to b, thus same shape as b\n",
    "    \n",
    "    Tips:\n",
    "    - Write your code step by step for the propagation. np.log(), np.dot()\n",
    "    \"\"\"\n",
    "    \n",
    "    m = X.shape[1]\n",
    "    \n",
    "    # FORWARD PROPAGATION (FROM X TO COST)\n",
    "    ### START CODE HERE ### (≈ 2 lines of code)\n",
    "                                    # compute activation\n",
    "                                    # compute cost\n",
    "    A = sigmoid(np.dot(w.T, X) + b)   # compute activation\n",
    "    cost = (-1/m) * np.sum(Y * np.log(A) + (1 - Y) * np.log(1 - A))  # compute cost\n",
    "    ### END CODE HERE ###\n",
    "    \n",
    "    # BACKWARD PROPAGATION (TO FIND GRAD)\n",
    "    ### START CODE HERE ### (≈ 2 lines of code)\n",
    "    dw = (1/m) * np.dot(X, (A - Y).T)\n",
    "    db = (1/m) * np.sum(A - Y)\n",
    "    ### END CODE HERE ###\n",
    "\n",
    "    assert(dw.shape == w.shape)\n",
    "    assert(db.dtype == float)\n",
    "    cost = np.squeeze(cost)\n",
    "    assert(cost.shape == ())\n",
    "    \n",
    "    grads = {\"dw\": dw,\n",
    "             \"db\": db}\n",
    "    \n",
    "    return grads, cost"
   ]
  },
  {
   "cell_type": "code",
   "execution_count": 28,
   "id": "bulgarian-scholar",
   "metadata": {
    "execution": {
     "iopub.execute_input": "2021-03-17T20:02:40.672169Z",
     "iopub.status.busy": "2021-03-17T20:02:40.671170Z",
     "iopub.status.idle": "2021-03-17T20:02:40.676896Z",
     "shell.execute_reply": "2021-03-17T20:02:40.676358Z"
    },
    "id": "iYR-a37Evhle",
    "outputId": "e672b072-0b4c-4d44-be7d-cca9a5c4e615",
    "papermill": {
     "duration": 0.067808,
     "end_time": "2021-03-17T20:02:40.677037",
     "exception": false,
     "start_time": "2021-03-17T20:02:40.609229",
     "status": "completed"
    },
    "tags": []
   },
   "outputs": [
    {
     "name": "stdout",
     "output_type": "stream",
     "text": [
      "dw = [[0.99845601]\n",
      " [2.39507239]]\n",
      "db = 0.001455578136784208\n",
      "cost = 5.801545319394553\n"
     ]
    }
   ],
   "source": [
    "w, b, X, Y = np.array([[1.],[2.]]), 2., np.array([[1.,2.,-1.],[3.,4.,-3.2]]), np.array([[1,0,1]])\n",
    "grads, cost = propagate(w, b, X, Y)\n",
    "print (\"dw = \" + str(grads[\"dw\"]))\n",
    "print (\"db = \" + str(grads[\"db\"]))\n",
    "print (\"cost = \" + str(cost))"
   ]
  },
  {
   "cell_type": "markdown",
   "id": "marked-asian",
   "metadata": {
    "id": "x2pRpvzKvhlf",
    "papermill": {
     "duration": 0.038636,
     "end_time": "2021-03-17T20:02:40.755171",
     "exception": false,
     "start_time": "2021-03-17T20:02:40.716535",
     "status": "completed"
    },
    "tags": []
   },
   "source": [
    "**Expected Output**:\n",
    "\n",
    "<table>\n",
    "    <tr>\n",
    "        <td>   dw   </td>\n",
    "        <td> [[ 0.99845601] [ 2.39507239]]</td>\n",
    "    </tr>\n",
    "    <tr>\n",
    "        <td>   db   </td>\n",
    "        <td> 0.00145557813678 </td>\n",
    "    </tr>\n",
    "    <tr>\n",
    "        <td>   cost   </td>\n",
    "        <td> 5.801545319394553 </td>\n",
    "    </tr>\n",
    "</table>"
   ]
  },
  {
   "cell_type": "markdown",
   "id": "inclusive-department",
   "metadata": {
    "id": "bIFxt9kSvhlf",
    "papermill": {
     "duration": 0.039037,
     "end_time": "2021-03-17T20:02:40.833458",
     "exception": false,
     "start_time": "2021-03-17T20:02:40.794421",
     "status": "completed"
    },
    "tags": []
   },
   "source": [
    "### 4.4 - Optimization\n",
    "- You have initialized your parameters.\n",
    "- You are also able to compute a cost function and its gradient.\n",
    "- Now, you want to update the parameters using gradient descent.\n",
    "\n",
    "**Exercise:** Write down the optimization function. The goal is to learn $w$ and $b$ by minimizing the cost function $J$. For a parameter $\\theta$, the update rule is $ \\theta = \\theta - \\alpha \\text{ } d\\theta$, where $\\alpha$ is the learning rate."
   ]
  },
  {
   "cell_type": "code",
   "execution_count": 29,
   "id": "nutritional-virtue",
   "metadata": {
    "collapsed": true,
    "execution": {
     "iopub.execute_input": "2021-03-17T20:02:40.922759Z",
     "iopub.status.busy": "2021-03-17T20:02:40.921911Z",
     "iopub.status.idle": "2021-03-17T20:02:40.924872Z",
     "shell.execute_reply": "2021-03-17T20:02:40.924218Z"
    },
    "id": "hGavGQ7Kvhlg",
    "papermill": {
     "duration": 0.052106,
     "end_time": "2021-03-17T20:02:40.925012",
     "exception": false,
     "start_time": "2021-03-17T20:02:40.872906",
     "status": "completed"
    },
    "tags": []
   },
   "outputs": [],
   "source": [
    "# GRADED FUNCTION: optimize\n",
    "\n",
    "def optimize(w, b, X, Y, num_iterations, learning_rate, print_cost = False):\n",
    "    \"\"\"\n",
    "    This function optimizes w and b by running a gradient descent algorithm\n",
    "    \n",
    "    Arguments:\n",
    "    w -- weights, a numpy array of size (num_px * num_px * 3, 1)\n",
    "    b -- bias, a scalar\n",
    "    X -- data of shape (num_px * num_px * 3, number of examples)\n",
    "    Y -- true \"label\" vector (containing 0 if non-cat, 1 if cat), of shape (1, number of examples)\n",
    "    num_iterations -- number of iterations of the optimization loop\n",
    "    learning_rate -- learning rate of the gradient descent update rule\n",
    "    print_cost -- True to print the loss every 100 steps\n",
    "    \n",
    "    Returns:\n",
    "    params -- dictionary containing the weights w and bias b\n",
    "    grads -- dictionary containing the gradients of the weights and bias with respect to the cost function\n",
    "    costs -- list of all the costs computed during the optimization, this will be used to plot the learning curve.\n",
    "    \n",
    "    Tips:\n",
    "    You basically need to write down two steps and iterate through them:\n",
    "        1) Calculate the cost and the gradient for the current parameters. Use propagate().\n",
    "        2) Update the parameters using gradient descent rule for w and b.\n",
    "    \"\"\"\n",
    "    \n",
    "    costs = []\n",
    "    \n",
    "    for i in range(num_iterations):\n",
    "        \n",
    "        \n",
    "        # Cost and gradient calculation (≈ 1-4 lines of code)\n",
    "        ### START CODE HERE ###\n",
    "        grads, cost = propagate(w, b, X, Y)\n",
    "        ### END CODE HERE ###\n",
    "        \n",
    "        # Retrieve derivatives from grads\n",
    "        dw = grads[\"dw\"]\n",
    "        db = grads[\"db\"]\n",
    "        \n",
    "        # update rule (≈ 2 lines of code)\n",
    "        ### START CODE HERE ###\n",
    "        w -= learning_rate * dw\n",
    "        b -= learning_rate * db\n",
    "        ### END CODE HERE ###\n",
    "        \n",
    "        # Record the costs\n",
    "        if i % 100 == 0:\n",
    "            costs.append(cost)\n",
    "        \n",
    "        # Print the cost every 100 training iterations\n",
    "        if print_cost and i % 100 == 0:\n",
    "            print (\"Cost after iteration %i: %f\" %(i, cost))\n",
    "    \n",
    "    params = {\"w\": w,\n",
    "              \"b\": b}\n",
    "    \n",
    "    grads = {\"dw\": dw,\n",
    "             \"db\": db}\n",
    "    \n",
    "    return params, grads, costs"
   ]
  },
  {
   "cell_type": "code",
   "execution_count": 30,
   "id": "literary-wyoming",
   "metadata": {
    "execution": {
     "iopub.execute_input": "2021-03-17T20:02:41.027643Z",
     "iopub.status.busy": "2021-03-17T20:02:41.026947Z",
     "iopub.status.idle": "2021-03-17T20:02:41.031542Z",
     "shell.execute_reply": "2021-03-17T20:02:41.030901Z"
    },
    "id": "6Ns8eu_Cvhlg",
    "outputId": "842c2471-8000-46fb-86b6-9c76498a4fab",
    "papermill": {
     "duration": 0.066584,
     "end_time": "2021-03-17T20:02:41.031699",
     "exception": false,
     "start_time": "2021-03-17T20:02:40.965115",
     "status": "completed"
    },
    "tags": []
   },
   "outputs": [
    {
     "name": "stdout",
     "output_type": "stream",
     "text": [
      "w = [[0.19033591]\n",
      " [0.12259159]]\n",
      "b = 1.9253598300845747\n",
      "dw = [[0.67752042]\n",
      " [1.41625495]]\n",
      "db = 0.21919450454067657\n"
     ]
    }
   ],
   "source": [
    "params, grads, costs = optimize(w, b, X, Y, num_iterations= 100, learning_rate = 0.009, print_cost = False)\n",
    "\n",
    "print (\"w = \" + str(params[\"w\"]))\n",
    "print (\"b = \" + str(params[\"b\"]))\n",
    "print (\"dw = \" + str(grads[\"dw\"]))\n",
    "print (\"db = \" + str(grads[\"db\"]))"
   ]
  },
  {
   "cell_type": "markdown",
   "id": "alpine-syria",
   "metadata": {
    "id": "14i7rZ3uvhlg",
    "papermill": {
     "duration": 0.04135,
     "end_time": "2021-03-17T20:02:41.113568",
     "exception": false,
     "start_time": "2021-03-17T20:02:41.072218",
     "status": "completed"
    },
    "tags": []
   },
   "source": [
    "**Expected Output**: \n",
    "\n",
    "<table>\n",
    "    <tr>\n",
    "       <td> w </td>\n",
    "       <td>[[ 0.19033591] [ 0.12259159]] </td>\n",
    "    </tr>\n",
    "    \n",
    "    <tr>\n",
    "       <td> b </td>\n",
    "       <td> 1.92535983008 </td>\n",
    "    </tr>\n",
    "\n",
    "    <tr>\n",
    "       <td> dw </td>\n",
    "       <td> [[ 0.67752042] [ 1.41625495]] </td>\n",
    "    </tr>\n",
    "\n",
    "    <tr>\n",
    "       <td> db </td>\n",
    "       <td> 0.219194504541 </td>\n",
    "    </tr>\n",
    "\n",
    "</table>"
   ]
  },
  {
   "cell_type": "markdown",
   "id": "experimental-twins",
   "metadata": {
    "id": "4wGeVY1Qvhlh",
    "papermill": {
     "duration": 0.039701,
     "end_time": "2021-03-17T20:02:41.193766",
     "exception": false,
     "start_time": "2021-03-17T20:02:41.154065",
     "status": "completed"
    },
    "tags": []
   },
   "source": [
    "**Exercise:** The previous function will output the learned w and b. We are able to use w and b to predict the labels for a dataset X. Implement the `predict()` function. There are two steps to computing predictions:\n",
    "\n",
    "1. Calculate $\\hat{Y} = A = \\sigma(w^T X + b)$\n",
    "\n",
    "2. Convert the entries of a into 0 (if activation <= 0.5) or 1 (if activation > 0.5), stores the predictions in a vector `Y_prediction`. If you wish, you can use an `if`/`else` statement in a `for` loop (though there is also a way to vectorize this). "
   ]
  },
  {
   "cell_type": "code",
   "execution_count": 31,
   "id": "latin-calvin",
   "metadata": {
    "collapsed": true,
    "execution": {
     "iopub.execute_input": "2021-03-17T20:02:41.280662Z",
     "iopub.status.busy": "2021-03-17T20:02:41.279757Z",
     "iopub.status.idle": "2021-03-17T20:02:41.284420Z",
     "shell.execute_reply": "2021-03-17T20:02:41.283817Z"
    },
    "id": "CnYF98o7vhlh",
    "papermill": {
     "duration": 0.051047,
     "end_time": "2021-03-17T20:02:41.284566",
     "exception": false,
     "start_time": "2021-03-17T20:02:41.233519",
     "status": "completed"
    },
    "tags": []
   },
   "outputs": [],
   "source": [
    "# GRADED FUNCTION: predict\n",
    "\n",
    "def predict(w, b, X):\n",
    "    '''\n",
    "    Predict whether the label is 0 or 1 using learned logistic regression parameters (w, b)\n",
    "    \n",
    "    Arguments:\n",
    "    w -- weights, a numpy array of size (num_px * num_px * 3, 1)\n",
    "    b -- bias, a scalar\n",
    "    X -- data of size (num_px * num_px * 3, number of examples)\n",
    "    \n",
    "    Returns:\n",
    "    Y_prediction -- a numpy array (vector) containing all predictions (0/1) for the examples in X\n",
    "    '''\n",
    "    \n",
    "    m = X.shape[1]\n",
    "    Y_prediction = np.zeros((1,m))\n",
    "    w = w.reshape(X.shape[0], 1)\n",
    "    \n",
    "    # Compute vector \"A\" predicting the probabilities of a cat being present in the picture\n",
    "    ### START CODE HERE ### (≈ 1 line of code)\n",
    "    A = sigmoid(np.dot(w.T, X) + b)\n",
    "    \n",
    "    ### END CODE HERE ###\n",
    "    \n",
    "    for i in range(A.shape[1]):\n",
    "        \n",
    "        # Convert probabilities A[0,i] to actual predictions p[0,i]\n",
    "        ### START CODE HERE ### (≈ 4 lines of code)\n",
    "        if A[0, i] <= 0.5:\n",
    "            Y_prediction[0, i] = 0\n",
    "        else:\n",
    "            Y_prediction[0, i] = 1\n",
    "        ### END CODE HERE ###\n",
    "    \n",
    "    assert(Y_prediction.shape == (1, m))\n",
    "    \n",
    "    return Y_prediction"
   ]
  },
  {
   "cell_type": "code",
   "execution_count": 32,
   "id": "loaded-europe",
   "metadata": {
    "execution": {
     "iopub.execute_input": "2021-03-17T20:02:41.380279Z",
     "iopub.status.busy": "2021-03-17T20:02:41.379635Z",
     "iopub.status.idle": "2021-03-17T20:02:41.383970Z",
     "shell.execute_reply": "2021-03-17T20:02:41.383432Z"
    },
    "id": "tdRTfkmOvhli",
    "outputId": "9f9074bd-eb3c-48c2-83f6-4f3298d69676",
    "papermill": {
     "duration": 0.059238,
     "end_time": "2021-03-17T20:02:41.384117",
     "exception": false,
     "start_time": "2021-03-17T20:02:41.324879",
     "status": "completed"
    },
    "tags": []
   },
   "outputs": [
    {
     "name": "stdout",
     "output_type": "stream",
     "text": [
      "predictions = [[1. 1. 0.]]\n"
     ]
    }
   ],
   "source": [
    "w = np.array([[0.1124579],[0.23106775]])\n",
    "b = -0.3\n",
    "X = np.array([[1.,-1.1,-3.2],[1.2,2.,0.1]])\n",
    "print (\"predictions = \" + str(predict(w, b, X)))"
   ]
  },
  {
   "cell_type": "markdown",
   "id": "scientific-california",
   "metadata": {
    "id": "b9opRgwOvhli",
    "papermill": {
     "duration": 0.040813,
     "end_time": "2021-03-17T20:02:41.465578",
     "exception": false,
     "start_time": "2021-03-17T20:02:41.424765",
     "status": "completed"
    },
    "tags": []
   },
   "source": [
    "**Expected Output**: \n",
    "\n",
    "<table>\n",
    "    <tr>\n",
    "         <td>\n",
    "             predictions\n",
    "         </td>\n",
    "          <td>\n",
    "            [[ 1.  1.  0.]]\n",
    "         </td>  \n",
    "   </tr>\n",
    "\n",
    "</table>\n"
   ]
  },
  {
   "cell_type": "markdown",
   "id": "criminal-painting",
   "metadata": {
    "id": "DGsVnvdZvhli",
    "papermill": {
     "duration": 0.040248,
     "end_time": "2021-03-17T20:02:41.546774",
     "exception": false,
     "start_time": "2021-03-17T20:02:41.506526",
     "status": "completed"
    },
    "tags": []
   },
   "source": [
    "<font color='blue'>\n",
    "**What to remember:**\n",
    "You've implemented several functions that:\n",
    "- Initialize (w,b)\n",
    "- Optimize the loss iteratively to learn parameters (w,b):\n",
    "    - computing the cost and its gradient \n",
    "    - updating the parameters using gradient descent\n",
    "- Use the learned (w,b) to predict the labels for a given set of examples"
   ]
  },
  {
   "cell_type": "markdown",
   "id": "functioning-adaptation",
   "metadata": {
    "id": "Ce361GyRvhlj",
    "papermill": {
     "duration": 0.040646,
     "end_time": "2021-03-17T20:02:41.628263",
     "exception": false,
     "start_time": "2021-03-17T20:02:41.587617",
     "status": "completed"
    },
    "tags": []
   },
   "source": [
    "# 5 - Merge all functions into a model #\n",
    "\n",
    "You will now see how the overall model is structured by putting together all the building blocks (functions implemented in the previous parts) together, in the right order.\n",
    "\n",
    "**Exercise:** Implement the model function. Use the following notation:\n",
    "    - Y_prediction_test for your predictions on the test set\n",
    "    - Y_prediction_train for your predictions on the train set\n",
    "    - w, costs, grads for the outputs of optimize()"
   ]
  },
  {
   "cell_type": "code",
   "execution_count": 33,
   "id": "other-october",
   "metadata": {
    "collapsed": true,
    "execution": {
     "iopub.execute_input": "2021-03-17T20:02:41.713415Z",
     "iopub.status.busy": "2021-03-17T20:02:41.712733Z",
     "iopub.status.idle": "2021-03-17T20:02:41.719868Z",
     "shell.execute_reply": "2021-03-17T20:02:41.720464Z"
    },
    "id": "hl1I6hH4vhlj",
    "papermill": {
     "duration": 0.051443,
     "end_time": "2021-03-17T20:02:41.720641",
     "exception": false,
     "start_time": "2021-03-17T20:02:41.669198",
     "status": "completed"
    },
    "tags": []
   },
   "outputs": [],
   "source": [
    "# GRADED FUNCTION: model\n",
    "\n",
    "def model(X_train, Y_train, X_test, Y_test, num_iterations = 2000, learning_rate = 0.5, print_cost = False):\n",
    "    \"\"\"\n",
    "    Builds the logistic regression model by calling the function you've implemented previously\n",
    "    \n",
    "    Arguments:\n",
    "    X_train -- training set represented by a numpy array of shape (num_px * num_px * 3, m_train)\n",
    "    Y_train -- training labels represented by a numpy array (vector) of shape (1, m_train)\n",
    "    X_test -- test set represented by a numpy array of shape (num_px * num_px * 3, m_test)\n",
    "    Y_test -- test labels represented by a numpy array (vector) of shape (1, m_test)\n",
    "    num_iterations -- hyperparameter representing the number of iterations to optimize the parameters\n",
    "    learning_rate -- hyperparameter representing the learning rate used in the update rule of optimize()\n",
    "    print_cost -- Set to true to print the cost every 100 iterations\n",
    "    \n",
    "    Returns:\n",
    "    d -- dictionary containing information about the model.\n",
    "    \"\"\"\n",
    "    \n",
    "    ### START CODE HERE ###\n",
    "    \n",
    "    # initialize parameters with zeros (≈ 1 line of code)\n",
    "    w, b = initialize_with_zeros(X_train.shape[0])\n",
    "\n",
    "    # Gradient descent (≈ 1 line of code)\n",
    "    params, grads, costs = optimize(w, b, X_train, Y_train,\n",
    "                                    num_iterations, learning_rate, print_cost)\n",
    "    \n",
    "    # Retrieve parameters w and b from dictionary \"parameters\"\n",
    "    \n",
    "    \n",
    "    # Predict test/train set examples (≈ 2 lines of code)\n",
    "    Y_prediction_test = predict(w, b, X_test)\n",
    "    Y_prediction_train = predict(w, b, X_train)\n",
    "\n",
    "    ### END CODE HERE ###\n",
    "\n",
    "    # Print train/test Errors\n",
    "    print(\"train accuracy: {} %\".format(100 - np.mean(np.abs(Y_prediction_train - Y_train)) * 100))\n",
    "    print(\"test accuracy: {} %\".format(100 - np.mean(np.abs(Y_prediction_test - Y_test)) * 100))\n",
    "\n",
    "    \n",
    "    d = {\"costs\": costs,\n",
    "         \"Y_prediction_test\": Y_prediction_test, \n",
    "         \"Y_prediction_train\" : Y_prediction_train, \n",
    "         \"w\" : w, \n",
    "         \"b\" : b,\n",
    "         \"learning_rate\" : learning_rate,\n",
    "         \"num_iterations\": num_iterations}\n",
    "    \n",
    "    return d"
   ]
  },
  {
   "cell_type": "markdown",
   "id": "violent-indonesian",
   "metadata": {
    "id": "asZCv2C7vhlj",
    "papermill": {
     "duration": 0.040559,
     "end_time": "2021-03-17T20:02:41.802050",
     "exception": false,
     "start_time": "2021-03-17T20:02:41.761491",
     "status": "completed"
    },
    "tags": []
   },
   "source": [
    "Run the following cell to train your model."
   ]
  },
  {
   "cell_type": "code",
   "execution_count": 34,
   "id": "colonial-aviation",
   "metadata": {
    "execution": {
     "iopub.execute_input": "2021-03-17T20:02:41.886778Z",
     "iopub.status.busy": "2021-03-17T20:02:41.886175Z",
     "iopub.status.idle": "2021-03-17T20:02:41.899878Z",
     "shell.execute_reply": "2021-03-17T20:02:41.900548Z"
    },
    "id": "o8wGhsRzvhlj",
    "outputId": "490f1bdf-dbab-4ba3-c338-f6ad465fd34f",
    "papermill": {
     "duration": 0.057741,
     "end_time": "2021-03-17T20:02:41.900719",
     "exception": false,
     "start_time": "2021-03-17T20:02:41.842978",
     "status": "completed"
    },
    "tags": []
   },
   "outputs": [
    {
     "name": "stdout",
     "output_type": "stream",
     "text": [
      "Cost after iteration 0: 0.693147\n",
      "Cost after iteration 100: 0.584508\n",
      "Cost after iteration 200: 0.466949\n",
      "Cost after iteration 300: 0.376007\n",
      "Cost after iteration 400: 0.331463\n",
      "Cost after iteration 500: 0.303273\n",
      "Cost after iteration 600: 0.279880\n",
      "Cost after iteration 700: 0.260042\n",
      "Cost after iteration 800: 0.242941\n",
      "Cost after iteration 900: 0.228004\n",
      "Cost after iteration 1000: 0.214820\n",
      "Cost after iteration 1100: 0.203078\n",
      "Cost after iteration 1200: 0.192544\n",
      "Cost after iteration 1300: 0.183033\n",
      "Cost after iteration 1400: 0.174399\n",
      "Cost after iteration 1500: 0.166521\n",
      "Cost after iteration 1600: 0.159305\n",
      "Cost after iteration 1700: 0.152667\n",
      "Cost after iteration 1800: 0.146542\n",
      "Cost after iteration 1900: 0.140872\n",
      "train accuracy: 99.04306220095694 %\n",
      "test accuracy: 70.0 %\n"
     ]
    }
   ],
   "source": [
    "d = model(train_set_x, train_set_y, test_set_x, test_set_y, num_iterations = 2000, learning_rate = 0.005, print_cost = True)"
   ]
  },
  {
   "cell_type": "markdown",
   "id": "varying-meaning",
   "metadata": {
    "id": "I6I-1RLOvhlk",
    "papermill": {
     "duration": 0.041357,
     "end_time": "2021-03-17T20:02:41.983340",
     "exception": false,
     "start_time": "2021-03-17T20:02:41.941983",
     "status": "completed"
    },
    "tags": []
   },
   "source": [
    "**Expected Output**: \n",
    "\n",
    "<table style=\"width:40%\"> \n",
    "\n",
    "    <tr>\n",
    "        <td> **Cost after iteration 0 **  </td> \n",
    "        <td> 0.693147 </td>\n",
    "    </tr>\n",
    "      <tr>\n",
    "        <td> <center> $\\vdots$ </center> </td> \n",
    "        <td> <center> $\\vdots$ </center> </td> \n",
    "    </tr>  \n",
    "    <tr>\n",
    "        <td> **Train Accuracy**  </td> \n",
    "        <td> 99.04306220095694 % </td>\n",
    "    </tr>\n",
    "\n",
    "    <tr>\n",
    "        <td>**Test Accuracy** </td> \n",
    "        <td> 70.0 % </td>\n",
    "    </tr>\n",
    "</table> \n",
    "\n",
    "\n"
   ]
  },
  {
   "cell_type": "markdown",
   "id": "south-walter",
   "metadata": {
    "id": "CMsA4SoRvhlk",
    "papermill": {
     "duration": 0.042055,
     "end_time": "2021-03-17T20:02:42.066981",
     "exception": false,
     "start_time": "2021-03-17T20:02:42.024926",
     "status": "completed"
    },
    "tags": []
   },
   "source": [
    "**Comment**: Training accuracy is close to 100%. This is a good sanity check: your model is working and has high enough capacity to fit the training data. Test accuracy is 68%. It is actually not bad for this simple model, given the small dataset we used and that logistic regression is a linear classifier. But no worries, you'll build an even better classifier next week!\n",
    "\n",
    "Also, you see that the model is clearly overfitting the training data. Later in this specialization you will learn how to reduce overfitting, for example by using regularization. Using the code below (and changing the `index` variable) you can look at predictions on pictures of the test set."
   ]
  },
  {
   "cell_type": "code",
   "execution_count": 35,
   "id": "absolute-living",
   "metadata": {
    "execution": {
     "iopub.execute_input": "2021-03-17T20:02:42.154101Z",
     "iopub.status.busy": "2021-03-17T20:02:42.153410Z",
     "iopub.status.idle": "2021-03-17T20:02:42.169415Z",
     "shell.execute_reply": "2021-03-17T20:02:42.168874Z"
    },
    "id": "fStYx271vhll",
    "outputId": "f4282d38-8637-4a17-e256-0c1184746b40",
    "papermill": {
     "duration": 0.060082,
     "end_time": "2021-03-17T20:02:42.169567",
     "exception": false,
     "start_time": "2021-03-17T20:02:42.109485",
     "status": "completed"
    },
    "tags": []
   },
   "outputs": [
    {
     "ename": "IndexError",
     "evalue": "only integers, slices (`:`), ellipsis (`...`), numpy.newaxis (`None`) and integer or boolean arrays are valid indices",
     "output_type": "error",
     "traceback": [
      "\u001B[0;31m---------------------------------------------------------------------------\u001B[0m",
      "\u001B[0;31mIndexError\u001B[0m                                Traceback (most recent call last)",
      "Input \u001B[0;32mIn [35]\u001B[0m, in \u001B[0;36m<cell line: 4>\u001B[0;34m()\u001B[0m\n\u001B[1;32m      2\u001B[0m index \u001B[38;5;241m=\u001B[39m \u001B[38;5;241m1\u001B[39m\n\u001B[1;32m      3\u001B[0m plt\u001B[38;5;241m.\u001B[39mimshow(test_set_x[:,index]\u001B[38;5;241m.\u001B[39mreshape((num_px, num_px, \u001B[38;5;241m3\u001B[39m)))\n\u001B[0;32m----> 4\u001B[0m \u001B[38;5;28mprint\u001B[39m (\u001B[38;5;124m\"\u001B[39m\u001B[38;5;124my = \u001B[39m\u001B[38;5;124m\"\u001B[39m \u001B[38;5;241m+\u001B[39m \u001B[38;5;28mstr\u001B[39m(test_set_y[\u001B[38;5;241m0\u001B[39m,index]) \u001B[38;5;241m+\u001B[39m \u001B[38;5;124m\"\u001B[39m\u001B[38;5;124m, you predicted that it is a \u001B[39m\u001B[38;5;130;01m\\\"\u001B[39;00m\u001B[38;5;124m\"\u001B[39m \u001B[38;5;241m+\u001B[39m \u001B[43mclasses\u001B[49m\u001B[43m[\u001B[49m\u001B[43md\u001B[49m\u001B[43m[\u001B[49m\u001B[38;5;124;43m\"\u001B[39;49m\u001B[38;5;124;43mY_prediction_test\u001B[39;49m\u001B[38;5;124;43m\"\u001B[39;49m\u001B[43m]\u001B[49m\u001B[43m[\u001B[49m\u001B[38;5;241;43m0\u001B[39;49m\u001B[43m,\u001B[49m\u001B[43mindex\u001B[49m\u001B[43m]\u001B[49m\u001B[43m]\u001B[49m\u001B[38;5;241m.\u001B[39mdecode(\u001B[38;5;124m\"\u001B[39m\u001B[38;5;124mutf-8\u001B[39m\u001B[38;5;124m\"\u001B[39m) \u001B[38;5;241m+\u001B[39m  \u001B[38;5;124m\"\u001B[39m\u001B[38;5;130;01m\\\"\u001B[39;00m\u001B[38;5;124m picture.\u001B[39m\u001B[38;5;124m\"\u001B[39m)\n",
      "\u001B[0;31mIndexError\u001B[0m: only integers, slices (`:`), ellipsis (`...`), numpy.newaxis (`None`) and integer or boolean arrays are valid indices"
     ]
    },
    {
     "data": {
      "text/plain": "<Figure size 432x288 with 1 Axes>",
      "image/png": "[encoded data removed]"
     },
     "metadata": {
      "needs_background": "light"
     },
     "output_type": "display_data"
    }
   ],
   "source": [
    "# Example of a picture that was wrongly classified.\n",
    "index = 1\n",
    "plt.imshow(test_set_x[:,index].reshape((num_px, num_px, 3)))\n",
    "print (\"y = \" + str(test_set_y[0,index]) + \", you predicted that it is a \\\"\" + classes[d[\"Y_prediction_test\"][0,index]].decode(\"utf-8\") +  \"\\\" picture.\")"
   ]
  },
  {
   "cell_type": "markdown",
   "id": "forbidden-departure",
   "metadata": {
    "id": "73i0t172vhll",
    "papermill": {
     "duration": 0.041759,
     "end_time": "2021-03-17T20:02:42.253775",
     "exception": false,
     "start_time": "2021-03-17T20:02:42.212016",
     "status": "completed"
    },
    "tags": []
   },
   "source": [
    "Let's also plot the cost function and the gradients."
   ]
  },
  {
   "cell_type": "code",
   "execution_count": 36,
   "id": "removed-geology",
   "metadata": {
    "execution": {
     "iopub.execute_input": "2021-03-17T20:02:42.352950Z",
     "iopub.status.busy": "2021-03-17T20:02:42.352270Z",
     "iopub.status.idle": "2021-03-17T20:02:42.355812Z",
     "shell.execute_reply": "2021-03-17T20:02:42.356340Z"
    },
    "id": "bUEY-1QRvhll",
    "outputId": "5a2b242e-8c42-41f3-caec-5f14242e6987",
    "papermill": {
     "duration": 0.060452,
     "end_time": "2021-03-17T20:02:42.356543",
     "exception": false,
     "start_time": "2021-03-17T20:02:42.296091",
     "status": "completed"
    },
    "tags": []
   },
   "outputs": [
    {
     "data": {
      "text/plain": "<Figure size 432x288 with 1 Axes>",
      "image/png": "[encoded data removed]"
     },
     "metadata": {
      "needs_background": "light"
     },
     "output_type": "display_data"
    }
   ],
   "source": [
    "# Plot learning curve (with costs)\n",
    "costs = np.squeeze(d['costs'])\n",
    "plt.plot(costs)\n",
    "plt.ylabel('cost')\n",
    "plt.xlabel('iterations (per hundreds)')\n",
    "plt.title(\"Learning rate =\" + str(d[\"learning_rate\"]))\n",
    "plt.show()"
   ]
  },
  {
   "cell_type": "markdown",
   "id": "sustainable-welding",
   "metadata": {
    "id": "chpJWEbnvhlm",
    "papermill": {
     "duration": 0.042058,
     "end_time": "2021-03-17T20:02:42.441007",
     "exception": false,
     "start_time": "2021-03-17T20:02:42.398949",
     "status": "completed"
    },
    "tags": []
   },
   "source": [
    "**Interpretation**:\n",
    "You can see the cost decreasing. It shows that the parameters are being learned. However, you see that you could train the model even more on the training set. Try to increase the number of iterations in the cell above and rerun the cells. You might see that the training set accuracy goes up, but the test set accuracy goes down. This is called overfitting. "
   ]
  },
  {
   "cell_type": "markdown",
   "id": "offshore-scientist",
   "metadata": {
    "id": "mqYLbzdpvhlm",
    "papermill": {
     "duration": 0.041942,
     "end_time": "2021-03-17T20:02:42.525496",
     "exception": false,
     "start_time": "2021-03-17T20:02:42.483554",
     "status": "completed"
    },
    "tags": []
   },
   "source": [
    "## 6 - Further analysis (optional/ungraded exercise) ##\n",
    "\n",
    "Congratulations on building your first image classification model. Let's analyze it further, and examine possible choices for the learning rate $\\alpha$. "
   ]
  },
  {
   "cell_type": "markdown",
   "id": "hollow-validation",
   "metadata": {
    "id": "fY-0x8Pfvhln",
    "papermill": {
     "duration": 0.042074,
     "end_time": "2021-03-17T20:02:42.609978",
     "exception": false,
     "start_time": "2021-03-17T20:02:42.567904",
     "status": "completed"
    },
    "tags": []
   },
   "source": [
    "#### Choice of learning rate ####\n",
    "\n",
    "**Reminder**:\n",
    "In order for Gradient Descent to work you must choose the learning rate wisely. The learning rate $\\alpha$  determines how rapidly we update the parameters. If the learning rate is too large we may \"overshoot\" the optimal value. Similarly, if it is too small we will need too many iterations to converge to the best values. That's why it is crucial to use a well-tuned learning rate.\n",
    "\n",
    "Let's compare the learning curve of our model with several choices of learning rates. Run the cell below. This should take about 1 minute. Feel free also to try different values than the three we have initialized the `learning_rates` variable to contain, and see what happens. "
   ]
  },
  {
   "cell_type": "code",
   "execution_count": 37,
   "id": "ongoing-store",
   "metadata": {
    "execution": {
     "iopub.execute_input": "2021-03-17T20:02:42.698810Z",
     "iopub.status.busy": "2021-03-17T20:02:42.698182Z",
     "iopub.status.idle": "2021-03-17T20:02:42.718548Z",
     "shell.execute_reply": "2021-03-17T20:02:42.717918Z"
    },
    "id": "0urSRWNsvhln",
    "outputId": "fd206901-5da7-4e85-ea66-dd4b9b254b4a",
    "papermill": {
     "duration": 0.065583,
     "end_time": "2021-03-17T20:02:42.718691",
     "exception": false,
     "start_time": "2021-03-17T20:02:42.653108",
     "status": "completed"
    },
    "tags": []
   },
   "outputs": [
    {
     "name": "stdout",
     "output_type": "stream",
     "text": [
      "learning rate is: 0.01\n",
      "train accuracy: 99.52153110047847 %\n",
      "test accuracy: 70.0 %\n",
      "\n",
      "-------------------------------------------------------\n",
      "\n",
      "learning rate is: 0.001\n",
      "train accuracy: 89.47368421052632 %\n",
      "test accuracy: 66.0 %\n",
      "\n",
      "-------------------------------------------------------\n",
      "\n",
      "learning rate is: 0.0001\n",
      "train accuracy: 68.42105263157895 %\n",
      "test accuracy: 36.0 %\n",
      "\n",
      "-------------------------------------------------------\n",
      "\n"
     ]
    },
    {
     "data": {
      "text/plain": "<Figure size 432x288 with 1 Axes>",
      "image/png": "[encoded data removed]"
     },
     "metadata": {
      "needs_background": "light"
     },
     "output_type": "display_data"
    }
   ],
   "source": [
    "learning_rates = [0.01, 0.001, 0.0001]\n",
    "models = {}\n",
    "for i in learning_rates:\n",
    "    print (\"learning rate is: \" + str(i))\n",
    "    models[str(i)] = model(train_set_x, train_set_y, test_set_x, test_set_y, num_iterations = 1500, learning_rate = i, print_cost = False)\n",
    "    print ('\\n' + \"-------------------------------------------------------\" + '\\n')\n",
    "\n",
    "for i in learning_rates:\n",
    "    plt.plot(np.squeeze(models[str(i)][\"costs\"]), label= str(models[str(i)][\"learning_rate\"]))\n",
    "\n",
    "plt.ylabel('cost')\n",
    "plt.xlabel('iterations (hundreds)')\n",
    "\n",
    "legend = plt.legend(loc='upper center', shadow=True)\n",
    "frame = legend.get_frame()\n",
    "frame.set_facecolor('0.90')\n",
    "plt.show()"
   ]
  },
  {
   "cell_type": "markdown",
   "id": "painful-reproduction",
   "metadata": {
    "id": "dktyqkhRvhlo",
    "papermill": {
     "duration": 0.043024,
     "end_time": "2021-03-17T20:02:42.805042",
     "exception": false,
     "start_time": "2021-03-17T20:02:42.762018",
     "status": "completed"
    },
    "tags": []
   },
   "source": [
    "**Interpretation**: \n",
    "- Different learning rates give different costs and thus different predictions results.\n",
    "- If the learning rate is too large (0.01), the cost may oscillate up and down. It may even diverge (though in this example, using 0.01 still eventually ends up at a good value for the cost). \n",
    "- A lower cost doesn't mean a better model. You have to check if there is possibly overfitting. It happens when the training accuracy is a lot higher than the test accuracy.\n",
    "- In deep learning, we usually recommend that you: \n",
    "    - Choose the learning rate that better minimizes the cost function.\n",
    "    - If your model overfits, use other techniques to reduce overfitting. (We'll talk about this in later videos.) \n"
   ]
  },
  {
   "cell_type": "markdown",
   "id": "composite-orlando",
   "metadata": {
    "id": "_ewFUPQOvhlo",
    "papermill": {
     "duration": 0.043804,
     "end_time": "2021-03-17T20:02:42.892111",
     "exception": false,
     "start_time": "2021-03-17T20:02:42.848307",
     "status": "completed"
    },
    "tags": []
   },
   "source": [
    "## 7 - Test with your own image (optional/ungraded exercise) ##\n",
    "\n",
    "Congratulations on finishing this assignment. You can use your own image and see the output of your model. To do that:\n",
    "    1. Click on \"File\" in the upper bar of this notebook, then click \"Open\" to go on your Coursera Hub.\n",
    "    2. Add your image to this Jupyter Notebook's directory, in the \"images\" folder\n",
    "    3. Change your image's name in the following code\n",
    "    4. Run the code and check if the algorithm is right (1 = cat, 0 = non-cat)!"
   ]
  },
  {
   "cell_type": "code",
   "execution_count": 42,
   "id": "collect-brisbane",
   "metadata": {
    "execution": {
     "iopub.execute_input": "2021-03-17T20:02:42.995748Z",
     "iopub.status.busy": "2021-03-17T20:02:42.995061Z",
     "iopub.status.idle": "2021-03-17T20:02:42.998869Z",
     "shell.execute_reply": "2021-03-17T20:02:42.999441Z"
    },
    "id": "U-AlOyzCvhlo",
    "outputId": "4403d53a-6d81-4d49-b9b7-dc3afb451ed8",
    "papermill": {
     "duration": 0.063245,
     "end_time": "2021-03-17T20:02:42.999617",
     "exception": false,
     "start_time": "2021-03-17T20:02:42.936372",
     "status": "completed"
    },
    "scrolled": false,
    "tags": []
   },
   "outputs": [
    {
     "name": "stdout",
     "output_type": "stream",
     "text": [
      "\u001B[33mDEPRECATION: Configuring installation scheme with distutils config files is deprecated and will no longer work in the near future. If you are using a Homebrew or Linuxbrew Python, please see discussion at https://github.com/Homebrew/homebrew-core/issues/76621\u001B[0m\u001B[33m\r\n",
      "\u001B[0mCollecting imageio\r\n",
      "  Using cached imageio-2.16.1-py3-none-any.whl (3.3 MB)\r\n",
      "Requirement already satisfied: pillow>=8.3.2 in /usr/local/lib/python3.9/site-packages (from imageio) (9.0.1)\r\n",
      "Collecting numpy>=1.20.0\r\n",
      "  Downloading numpy-1.22.3-cp39-cp39-macosx_10_14_x86_64.whl (17.6 MB)\r\n",
      "\u001B[2K     \u001B[90m━━━━━━━━━━━━━━━━━━━━━━━━━━━━━━━━━━━━━━━\u001B[0m \u001B[32m17.6/17.6 MB\u001B[0m \u001B[31m893.7 kB/s\u001B[0m eta \u001B[36m0:00:00\u001B[0m00:01\u001B[0m00:01\u001B[0m\r\n",
      "\u001B[?25hInstalling collected packages: numpy, imageio\r\n",
      "  Attempting uninstall: numpy\r\n",
      "    Found existing installation: numpy 1.19.4\r\n",
      "    Uninstalling numpy-1.19.4:\r\n",
      "      Successfully uninstalled numpy-1.19.4\r\n",
      "\u001B[33m  DEPRECATION: Configuring installation scheme with distutils config files is deprecated and will no longer work in the near future. If you are using a Homebrew or Linuxbrew Python, please see discussion at https://github.com/Homebrew/homebrew-core/issues/76621\u001B[0m\u001B[33m\r\n",
      "\u001B[0m\u001B[33m  WARNING: The scripts f2py, f2py3 and f2py3.9 are installed in '/usr/local/bin' which is not on PATH.\r\n",
      "  Consider adding this directory to PATH or, if you prefer to suppress this warning, use --no-warn-script-location.\r\n",
      "  NOTE: The current PATH contains path(s) starting with `~`, which may not be expanded by all applications.\u001B[0m\u001B[33m\r\n",
      "\u001B[0m\u001B[33m  DEPRECATION: Configuring installation scheme with distutils config files is deprecated and will no longer work in the near future. If you are using a Homebrew or Linuxbrew Python, please see discussion at https://github.com/Homebrew/homebrew-core/issues/76621\u001B[0m\u001B[33m\r\n",
      "\u001B[0m\u001B[33m  WARNING: The scripts imageio_download_bin and imageio_remove_bin are installed in '/usr/local/bin' which is not on PATH.\r\n",
      "  Consider adding this directory to PATH or, if you prefer to suppress this warning, use --no-warn-script-location.\r\n",
      "  NOTE: The current PATH contains path(s) starting with `~`, which may not be expanded by all applications.\u001B[0m\u001B[33m\r\n",
      "\u001B[0m\u001B[33mDEPRECATION: Configuring installation scheme with distutils config files is deprecated and will no longer work in the near future. If you are using a Homebrew or Linuxbrew Python, please see discussion at https://github.com/Homebrew/homebrew-core/issues/76621\u001B[0m\u001B[33m\r\n",
      "\u001B[0m\u001B[31mERROR: pip's dependency resolver does not currently take into account all the packages that are installed. This behaviour is the source of the following dependency conflicts.\r\n",
      "diaparser 1.1.2 requires numpy==1.19.4, but you have numpy 1.22.3 which is incompatible.\u001B[0m\u001B[31m\r\n",
      "\u001B[0mSuccessfully installed imageio-2.16.1 numpy-1.22.3\r\n"
     ]
    },
    {
     "ename": "TypeError",
     "evalue": "'type' object is not subscriptable",
     "output_type": "error",
     "traceback": [
      "\u001B[0;31m---------------------------------------------------------------------------\u001B[0m",
      "\u001B[0;31mTypeError\u001B[0m                                 Traceback (most recent call last)",
      "Input \u001B[0;32mIn [42]\u001B[0m, in \u001B[0;36m<cell line: 2>\u001B[0;34m()\u001B[0m\n\u001B[1;32m      1\u001B[0m get_ipython()\u001B[38;5;241m.\u001B[39msystem(\u001B[38;5;124m'\u001B[39m\u001B[38;5;124m pip install imageio\u001B[39m\u001B[38;5;124m'\u001B[39m)\n\u001B[0;32m----> 2\u001B[0m \u001B[38;5;28;01mimport\u001B[39;00m \u001B[38;5;21;01mimageio\u001B[39;00m\n\u001B[1;32m      3\u001B[0m \u001B[38;5;66;03m## START CODE HERE ## (PUT YOUR IMAGE NAME)\u001B[39;00m\n\u001B[1;32m      4\u001B[0m    \u001B[38;5;66;03m# change this to the name of your image file\u001B[39;00m\n\u001B[1;32m      5\u001B[0m my_image \u001B[38;5;241m=\u001B[39m \u001B[38;5;124m\"\u001B[39m\u001B[38;5;124mimg.png\u001B[39m\u001B[38;5;124m\"\u001B[39m\n",
      "File \u001B[0;32m/usr/local/lib/python3.9/site-packages/imageio/__init__.py:22\u001B[0m, in \u001B[0;36m<module>\u001B[0;34m\u001B[0m\n\u001B[1;32m     19\u001B[0m __version__ \u001B[38;5;241m=\u001B[39m \u001B[38;5;124m\"\u001B[39m\u001B[38;5;124m2.16.1\u001B[39m\u001B[38;5;124m\"\u001B[39m\n\u001B[1;32m     21\u001B[0m \u001B[38;5;66;03m# Load some bits from core\u001B[39;00m\n\u001B[0;32m---> 22\u001B[0m \u001B[38;5;28;01mfrom\u001B[39;00m \u001B[38;5;21;01m.\u001B[39;00m\u001B[38;5;21;01mcore\u001B[39;00m \u001B[38;5;28;01mimport\u001B[39;00m FormatManager, RETURN_BYTES\n\u001B[1;32m     24\u001B[0m \u001B[38;5;66;03m# Instantiate the old format manager\u001B[39;00m\n\u001B[1;32m     25\u001B[0m formats \u001B[38;5;241m=\u001B[39m FormatManager()\n",
      "File \u001B[0;32m/usr/local/lib/python3.9/site-packages/imageio/core/__init__.py:16\u001B[0m, in \u001B[0;36m<module>\u001B[0;34m\u001B[0m\n\u001B[1;32m     14\u001B[0m \u001B[38;5;28;01mfrom\u001B[39;00m \u001B[38;5;21;01m.\u001B[39;00m\u001B[38;5;21;01mfetching\u001B[39;00m \u001B[38;5;28;01mimport\u001B[39;00m get_remote_file, InternetNotAllowedError, NeedDownloadError\n\u001B[1;32m     15\u001B[0m \u001B[38;5;28;01mfrom\u001B[39;00m \u001B[38;5;21;01m.\u001B[39;00m\u001B[38;5;21;01mrequest\u001B[39;00m \u001B[38;5;28;01mimport\u001B[39;00m Request, read_n_bytes, RETURN_BYTES\n\u001B[0;32m---> 16\u001B[0m \u001B[38;5;28;01mfrom\u001B[39;00m \u001B[38;5;21;01m.\u001B[39;00m\u001B[38;5;21;01mformat\u001B[39;00m \u001B[38;5;28;01mimport\u001B[39;00m Format, FormatManager\n",
      "File \u001B[0;32m/usr/local/lib/python3.9/site-packages/imageio/core/format.py:40\u001B[0m, in \u001B[0;36m<module>\u001B[0;34m\u001B[0m\n\u001B[1;32m     38\u001B[0m \u001B[38;5;28;01mfrom\u001B[39;00m \u001B[38;5;21;01m.\u001B[39;00m \u001B[38;5;28;01mimport\u001B[39;00m Array, asarray\n\u001B[1;32m     39\u001B[0m \u001B[38;5;28;01mfrom\u001B[39;00m \u001B[38;5;21;01m.\u001B[39;00m\u001B[38;5;21;01mrequest\u001B[39;00m \u001B[38;5;28;01mimport\u001B[39;00m ImageMode, Request\n\u001B[0;32m---> 40\u001B[0m \u001B[38;5;28;01mfrom\u001B[39;00m \u001B[38;5;21;01m.\u001B[39;00m\u001B[38;5;21;01m.\u001B[39;00m\u001B[38;5;21;01mconfig\u001B[39;00m \u001B[38;5;28;01mimport\u001B[39;00m known_plugins, known_extensions, PluginConfig, FileExtension\n\u001B[1;32m     41\u001B[0m \u001B[38;5;28;01mfrom\u001B[39;00m \u001B[38;5;21;01m.\u001B[39;00m\u001B[38;5;21;01m.\u001B[39;00m\u001B[38;5;21;01mconfig\u001B[39;00m\u001B[38;5;21;01m.\u001B[39;00m\u001B[38;5;21;01mplugins\u001B[39;00m \u001B[38;5;28;01mimport\u001B[39;00m _original_order\n\u001B[1;32m     42\u001B[0m \u001B[38;5;28;01mfrom\u001B[39;00m \u001B[38;5;21;01m.\u001B[39;00m\u001B[38;5;21;01mimopen\u001B[39;00m \u001B[38;5;28;01mimport\u001B[39;00m imopen, _get_config\n",
      "File \u001B[0;32m/usr/local/lib/python3.9/site-packages/imageio/config/__init__.py:7\u001B[0m, in \u001B[0;36m<module>\u001B[0;34m\u001B[0m\n\u001B[1;32m      1\u001B[0m \u001B[38;5;28;01mfrom\u001B[39;00m \u001B[38;5;21;01m.\u001B[39;00m\u001B[38;5;21;01mextensions\u001B[39;00m \u001B[38;5;28;01mimport\u001B[39;00m (\n\u001B[1;32m      2\u001B[0m     extension_list,\n\u001B[1;32m      3\u001B[0m     known_extensions,\n\u001B[1;32m      4\u001B[0m     FileExtension,\n\u001B[1;32m      5\u001B[0m     video_extensions,\n\u001B[1;32m      6\u001B[0m )\n\u001B[0;32m----> 7\u001B[0m \u001B[38;5;28;01mfrom\u001B[39;00m \u001B[38;5;21;01m.\u001B[39;00m\u001B[38;5;21;01mplugins\u001B[39;00m \u001B[38;5;28;01mimport\u001B[39;00m known_plugins, PluginConfig\n\u001B[1;32m      9\u001B[0m __all__ \u001B[38;5;241m=\u001B[39m [\n\u001B[1;32m     10\u001B[0m     \u001B[38;5;124m\"\u001B[39m\u001B[38;5;124mknown_plugins\u001B[39m\u001B[38;5;124m\"\u001B[39m,\n\u001B[1;32m     11\u001B[0m     \u001B[38;5;124m\"\u001B[39m\u001B[38;5;124mPluginConfig\u001B[39m\u001B[38;5;124m\"\u001B[39m,\n\u001B[0;32m   (...)\u001B[0m\n\u001B[1;32m     15\u001B[0m     \u001B[38;5;124m\"\u001B[39m\u001B[38;5;124mvideo_extensions\u001B[39m\u001B[38;5;124m\"\u001B[39m,\n\u001B[1;32m     16\u001B[0m ]\n",
      "File \u001B[0;32m/usr/local/lib/python3.9/site-packages/imageio/config/plugins.py:4\u001B[0m, in \u001B[0;36m<module>\u001B[0;34m\u001B[0m\n\u001B[1;32m      1\u001B[0m \u001B[38;5;28;01mfrom\u001B[39;00m \u001B[38;5;21;01mtyping\u001B[39;00m \u001B[38;5;28;01mimport\u001B[39;00m Any\n\u001B[1;32m      2\u001B[0m \u001B[38;5;28;01mimport\u001B[39;00m \u001B[38;5;21;01mimportlib\u001B[39;00m\n\u001B[0;32m----> 4\u001B[0m \u001B[38;5;28;01mfrom\u001B[39;00m \u001B[38;5;21;01m.\u001B[39;00m\u001B[38;5;21;01m.\u001B[39;00m\u001B[38;5;21;01mcore\u001B[39;00m\u001B[38;5;21;01m.\u001B[39;00m\u001B[38;5;21;01mlegacy_plugin_wrapper\u001B[39;00m \u001B[38;5;28;01mimport\u001B[39;00m LegacyPlugin\n\u001B[1;32m      7\u001B[0m \u001B[38;5;28;01mclass\u001B[39;00m \u001B[38;5;21;01mPluginConfig\u001B[39;00m:\n\u001B[1;32m      8\u001B[0m     \u001B[38;5;124;03m\"\"\"Plugin Configuration Metadata\u001B[39;00m\n\u001B[1;32m      9\u001B[0m \n\u001B[1;32m     10\u001B[0m \u001B[38;5;124;03m    This class holds the information needed to lazy-import plugins.\u001B[39;00m\n\u001B[0;32m   (...)\u001B[0m\n\u001B[1;32m     51\u001B[0m \n\u001B[1;32m     52\u001B[0m \u001B[38;5;124;03m    \"\"\"\u001B[39;00m\n",
      "File \u001B[0;32m/usr/local/lib/python3.9/site-packages/imageio/core/legacy_plugin_wrapper.py:6\u001B[0m, in \u001B[0;36m<module>\u001B[0;34m\u001B[0m\n\u001B[1;32m      3\u001B[0m \u001B[38;5;28;01mfrom\u001B[39;00m \u001B[38;5;21;01mpathlib\u001B[39;00m \u001B[38;5;28;01mimport\u001B[39;00m Path\n\u001B[1;32m      5\u001B[0m \u001B[38;5;28;01mfrom\u001B[39;00m \u001B[38;5;21;01m.\u001B[39;00m\u001B[38;5;21;01mrequest\u001B[39;00m \u001B[38;5;28;01mimport\u001B[39;00m IOMode, Request, InitializationError\n\u001B[0;32m----> 6\u001B[0m \u001B[38;5;28;01mfrom\u001B[39;00m \u001B[38;5;21;01m.\u001B[39;00m\u001B[38;5;21;01mv3_plugin_api\u001B[39;00m \u001B[38;5;28;01mimport\u001B[39;00m PluginV3, ImageProperties\n\u001B[1;32m      9\u001B[0m \u001B[38;5;28;01mclass\u001B[39;00m \u001B[38;5;21;01mLegacyPlugin\u001B[39;00m(PluginV3):\n\u001B[1;32m     10\u001B[0m     \u001B[38;5;124;03m\"\"\"A plugin to  make old (v2.9) plugins compatible with v3.0\u001B[39;00m\n\u001B[1;32m     11\u001B[0m \n\u001B[1;32m     12\u001B[0m \u001B[38;5;124;03m    .. depreciated:: 2.9\u001B[39;00m\n\u001B[0;32m   (...)\u001B[0m\n\u001B[1;32m     44\u001B[0m \n\u001B[1;32m     45\u001B[0m \u001B[38;5;124;03m    \"\"\"\u001B[39;00m\n",
      "File \u001B[0;32m/usr/local/lib/python3.9/site-packages/imageio/core/v3_plugin_api.py:2\u001B[0m, in \u001B[0;36m<module>\u001B[0;34m\u001B[0m\n\u001B[1;32m      1\u001B[0m \u001B[38;5;28;01mfrom\u001B[39;00m \u001B[38;5;21;01m.\u001B[39;00m \u001B[38;5;28;01mimport\u001B[39;00m Request\n\u001B[0;32m----> 2\u001B[0m \u001B[38;5;28;01mfrom\u001B[39;00m \u001B[38;5;21;01mnumpy\u001B[39;00m\u001B[38;5;21;01m.\u001B[39;00m\u001B[38;5;21;01mtyping\u001B[39;00m \u001B[38;5;28;01mimport\u001B[39;00m ArrayLike\n\u001B[1;32m      3\u001B[0m \u001B[38;5;28;01mimport\u001B[39;00m \u001B[38;5;21;01mnumpy\u001B[39;00m \u001B[38;5;28;01mas\u001B[39;00m \u001B[38;5;21;01mnp\u001B[39;00m\n\u001B[1;32m      4\u001B[0m \u001B[38;5;28;01mfrom\u001B[39;00m \u001B[38;5;21;01mtyping\u001B[39;00m \u001B[38;5;28;01mimport\u001B[39;00m Optional, Dict, Any, Tuple, Union, List\n",
      "File \u001B[0;32m/usr/local/lib/python3.9/site-packages/numpy/typing/__init__.py:324\u001B[0m, in \u001B[0;36m<module>\u001B[0;34m\u001B[0m\n\u001B[1;32m    311\u001B[0m \u001B[38;5;28;01mfrom\u001B[39;00m \u001B[38;5;21;01m.\u001B[39;00m\u001B[38;5;21;01m_scalars\u001B[39;00m \u001B[38;5;28;01mimport\u001B[39;00m (\n\u001B[1;32m    312\u001B[0m     _CharLike_co,\n\u001B[1;32m    313\u001B[0m     _BoolLike_co,\n\u001B[0;32m   (...)\u001B[0m\n\u001B[1;32m    321\u001B[0m     _VoidLike_co,\n\u001B[1;32m    322\u001B[0m )\n\u001B[1;32m    323\u001B[0m \u001B[38;5;28;01mfrom\u001B[39;00m \u001B[38;5;21;01m.\u001B[39;00m\u001B[38;5;21;01m_shape\u001B[39;00m \u001B[38;5;28;01mimport\u001B[39;00m _Shape, _ShapeLike\n\u001B[0;32m--> 324\u001B[0m \u001B[38;5;28;01mfrom\u001B[39;00m \u001B[38;5;21;01m.\u001B[39;00m\u001B[38;5;21;01m_dtype_like\u001B[39;00m \u001B[38;5;28;01mimport\u001B[39;00m (\n\u001B[1;32m    325\u001B[0m     DTypeLike \u001B[38;5;28;01mas\u001B[39;00m DTypeLike,\n\u001B[1;32m    326\u001B[0m     _SupportsDType,\n\u001B[1;32m    327\u001B[0m     _VoidDTypeLike,\n\u001B[1;32m    328\u001B[0m     _DTypeLikeBool,\n\u001B[1;32m    329\u001B[0m     _DTypeLikeUInt,\n\u001B[1;32m    330\u001B[0m     _DTypeLikeInt,\n\u001B[1;32m    331\u001B[0m     _DTypeLikeFloat,\n\u001B[1;32m    332\u001B[0m     _DTypeLikeComplex,\n\u001B[1;32m    333\u001B[0m     _DTypeLikeTD64,\n\u001B[1;32m    334\u001B[0m     _DTypeLikeDT64,\n\u001B[1;32m    335\u001B[0m     _DTypeLikeObject,\n\u001B[1;32m    336\u001B[0m     _DTypeLikeVoid,\n\u001B[1;32m    337\u001B[0m     _DTypeLikeStr,\n\u001B[1;32m    338\u001B[0m     _DTypeLikeBytes,\n\u001B[1;32m    339\u001B[0m     _DTypeLikeComplex_co,\n\u001B[1;32m    340\u001B[0m )\n\u001B[1;32m    341\u001B[0m \u001B[38;5;28;01mfrom\u001B[39;00m \u001B[38;5;21;01m.\u001B[39;00m\u001B[38;5;21;01m_array_like\u001B[39;00m \u001B[38;5;28;01mimport\u001B[39;00m (\n\u001B[1;32m    342\u001B[0m     ArrayLike \u001B[38;5;28;01mas\u001B[39;00m ArrayLike,\n\u001B[1;32m    343\u001B[0m     _ArrayLike,\n\u001B[0;32m   (...)\u001B[0m\n\u001B[1;32m    358\u001B[0m     _ArrayLikeBytes_co,\n\u001B[1;32m    359\u001B[0m )\n\u001B[1;32m    360\u001B[0m \u001B[38;5;28;01mfrom\u001B[39;00m \u001B[38;5;21;01m.\u001B[39;00m\u001B[38;5;21;01m_generic_alias\u001B[39;00m \u001B[38;5;28;01mimport\u001B[39;00m (\n\u001B[1;32m    361\u001B[0m     NDArray \u001B[38;5;28;01mas\u001B[39;00m NDArray,\n\u001B[1;32m    362\u001B[0m     _DType,\n\u001B[1;32m    363\u001B[0m     _GenericAlias,\n\u001B[1;32m    364\u001B[0m )\n",
      "File \u001B[0;32m/usr/local/lib/python3.9/site-packages/numpy/typing/_dtype_like.py:16\u001B[0m, in \u001B[0;36m<module>\u001B[0;34m\u001B[0m\n\u001B[1;32m     13\u001B[0m \u001B[38;5;28;01mimport\u001B[39;00m \u001B[38;5;21;01mnumpy\u001B[39;00m \u001B[38;5;28;01mas\u001B[39;00m \u001B[38;5;21;01mnp\u001B[39;00m\n\u001B[1;32m     15\u001B[0m \u001B[38;5;28;01mfrom\u001B[39;00m \u001B[38;5;21;01m.\u001B[39;00m\u001B[38;5;21;01m_shape\u001B[39;00m \u001B[38;5;28;01mimport\u001B[39;00m _ShapeLike\n\u001B[0;32m---> 16\u001B[0m \u001B[38;5;28;01mfrom\u001B[39;00m \u001B[38;5;21;01m.\u001B[39;00m\u001B[38;5;21;01m_generic_alias\u001B[39;00m \u001B[38;5;28;01mimport\u001B[39;00m _DType \u001B[38;5;28;01mas\u001B[39;00m DType\n\u001B[1;32m     18\u001B[0m \u001B[38;5;28;01mfrom\u001B[39;00m \u001B[38;5;21;01m.\u001B[39;00m\u001B[38;5;21;01m_char_codes\u001B[39;00m \u001B[38;5;28;01mimport\u001B[39;00m (\n\u001B[1;32m     19\u001B[0m     _BoolCodes,\n\u001B[1;32m     20\u001B[0m     _UInt8Codes,\n\u001B[0;32m   (...)\u001B[0m\n\u001B[1;32m     57\u001B[0m     _ObjectCodes,\n\u001B[1;32m     58\u001B[0m )\n\u001B[1;32m     60\u001B[0m _DTypeLikeNested \u001B[38;5;241m=\u001B[39m Any  \u001B[38;5;66;03m# TODO: wait for support for recursive types\u001B[39;00m\n",
      "File \u001B[0;32m/usr/local/lib/python3.9/site-packages/numpy/typing/_generic_alias.py:211\u001B[0m, in \u001B[0;36m<module>\u001B[0;34m\u001B[0m\n\u001B[1;32m    208\u001B[0m ScalarType \u001B[38;5;241m=\u001B[39m TypeVar(\u001B[38;5;124m\"\u001B[39m\u001B[38;5;124mScalarType\u001B[39m\u001B[38;5;124m\"\u001B[39m, bound\u001B[38;5;241m=\u001B[39mnp\u001B[38;5;241m.\u001B[39mgeneric, covariant\u001B[38;5;241m=\u001B[39m\u001B[38;5;28;01mTrue\u001B[39;00m)\n\u001B[1;32m    210\u001B[0m \u001B[38;5;28;01mif\u001B[39;00m TYPE_CHECKING \u001B[38;5;129;01mor\u001B[39;00m sys\u001B[38;5;241m.\u001B[39mversion_info \u001B[38;5;241m>\u001B[39m\u001B[38;5;241m=\u001B[39m (\u001B[38;5;241m3\u001B[39m, \u001B[38;5;241m9\u001B[39m):\n\u001B[0;32m--> 211\u001B[0m     _DType \u001B[38;5;241m=\u001B[39m \u001B[43mnp\u001B[49m\u001B[38;5;241;43m.\u001B[39;49m\u001B[43mdtype\u001B[49m\u001B[43m[\u001B[49m\u001B[43mScalarType\u001B[49m\u001B[43m]\u001B[49m\n\u001B[1;32m    212\u001B[0m     NDArray \u001B[38;5;241m=\u001B[39m np\u001B[38;5;241m.\u001B[39mndarray[Any, np\u001B[38;5;241m.\u001B[39mdtype[ScalarType]]\n\u001B[1;32m    213\u001B[0m \u001B[38;5;28;01melse\u001B[39;00m:\n",
      "\u001B[0;31mTypeError\u001B[0m: 'type' object is not subscriptable"
     ]
    }
   ],
   "source": [
    "! pip install imageio\n",
    "import imageio\n",
    "## START CODE HERE ## (PUT YOUR IMAGE NAME)\n",
    "   # change this to the name of your image file\n",
    "my_image = \"img.png\"\n",
    "## END CODE HERE ##\n",
    "\n",
    "# We preprocess the image to fit your algorithm.\n",
    "image = np.array(imageio.imread(my_image, flatten=False))\n",
    "image = image/255.\n",
    "my_image = scipy.misc.imresize(image, size=(num_px,num_px)).reshape((1, num_px*num_px*3)).T\n",
    "my_predicted_image = predict(d[\"w\"], d[\"b\"], my_image)\n",
    "\n",
    "plt.imshow(image)\n",
    "print(\"y = \" + str(np.squeeze(my_predicted_image)) + \", your algorithm predicts a \\\"\" + classes[int(np.squeeze(my_predicted_image)),].decode(\"utf-8\") +  \"\\\" picture.\")"
   ]
  },
  {
   "cell_type": "markdown",
   "id": "isolated-committee",
   "metadata": {
    "id": "ANLsYnCxvhlp",
    "papermill": {
     "duration": 0.044621,
     "end_time": "2021-03-17T20:02:43.088077",
     "exception": false,
     "start_time": "2021-03-17T20:02:43.043456",
     "status": "completed"
    },
    "tags": []
   },
   "source": [
    "<font color='blue'>\n",
    "**What to remember from this assignment:**\n",
    "1. Preprocessing the dataset is important.\n",
    "2. You implemented each function separately: initialize(), propagate(), optimize(). Then you built a model().\n",
    "3. Tuning the learning rate (which is an example of a \"hyperparameter\") can make a big difference to the algorithm. You will see more examples of this later in this course!"
   ]
  },
  {
   "cell_type": "markdown",
   "id": "alpha-norwegian",
   "metadata": {
    "id": "PLM9DdyFvhlp",
    "papermill": {
     "duration": 0.043526,
     "end_time": "2021-03-17T20:02:43.177022",
     "exception": false,
     "start_time": "2021-03-17T20:02:43.133496",
     "status": "completed"
    },
    "tags": []
   },
   "source": [
    "Finally, if you'd like, we invite you to try different things on this Notebook. Make sure you submit before trying anything. Once you submit, things you can play with include:\n",
    "    - Play with the learning rate and the number of iterations\n",
    "    - Try different initialization methods and compare the results\n",
    "    - Test other preprocessings (center the data, or divide each row by its standard deviation)"
   ]
  },
  {
   "cell_type": "markdown",
   "id": "artificial-maryland",
   "metadata": {
    "id": "biXAJvexvhlp",
    "papermill": {
     "duration": 0.043568,
     "end_time": "2021-03-17T20:02:43.264475",
     "exception": false,
     "start_time": "2021-03-17T20:02:43.220907",
     "status": "completed"
    },
    "tags": []
   },
   "source": [
    "Bibliography:\n",
    "- http://www.wildml.com/2015/09/implementing-a-neural-network-from-scratch/\n",
    "- https://stats.stackexchange.com/questions/211436/why-do-we-normalize-images-by-subtracting-the-datasets-image-mean-and-not-the-c"
   ]
  }
 ],
 "metadata": {
  "kernelspec": {
   "display_name": "Python 3",
   "language": "python",
   "name": "python3"
  },
  "language_info": {
   "codemirror_mode": {
    "name": "ipython",
    "version": 3
   },
   "file_extension": ".py",
   "mimetype": "text/x-python",
   "name": "python",
   "nbconvert_exporter": "python",
   "pygments_lexer": "ipython3",
   "version": "3.7.9"
  },
  "papermill": {
   "default_parameters": {},
   "duration": 12.753147,
   "end_time": "2021-03-17T20:02:43.917752",
   "environment_variables": {},
   "exception": null,
   "input_path": "__notebook__.ipynb",
   "output_path": "__notebook__.ipynb",
   "parameters": {},
   "start_time": "2021-03-17T20:02:31.164605",
   "version": "2.3.2"
  }
 },
 "nbformat": 4,
 "nbformat_minor": 5
}