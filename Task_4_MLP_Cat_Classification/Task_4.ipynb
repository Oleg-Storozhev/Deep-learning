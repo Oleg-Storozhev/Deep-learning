{
 "cells": [
  {
   "cell_type": "markdown",
   "metadata": {
    "collapsed": true,
    "pycharm": {
     "name": "#%% md\n"
    }
   },
   "source": [
    "# Planar data classification with 2-layer neural network"
   ]
  },
  {
   "cell_type": "markdown",
   "source": [
    "# 1 - Packages\n",
    "Let's first import all the packages that you will need during this assignment.\n",
    "\n",
    " - numpy is the fundamental package for scientific computing with Python.\n",
    " - sklearn provides simple and efficient tools for data mining and data analysis.\n",
    " - matplotlib is a library for plotting graphs in Python.\n",
    " - testCases provides some test examples to assess the correctness of your functions\n",
    " - planar_utils provide various useful functions used i"
   ],
   "metadata": {
    "collapsed": false,
    "pycharm": {
     "name": "#%% md\n"
    }
   }
  },
  {
   "cell_type": "code",
   "execution_count": 1,
   "outputs": [],
   "source": [
    "# Package imports\n",
    "import numpy as np\n",
    "import matplotlib.pyplot as plt\n",
    "#from testCases_v2 import *\n",
    "import sklearn\n",
    "from planar_utils import sigmoid\n",
    "\n",
    "import h5py\n",
    "import scipy\n",
    "from PIL import Image\n",
    "from scipy import ndimage\n",
    "\n",
    "import seaborn as sns\n",
    "%matplotlib inline\n",
    "\n",
    "np.random.seed(5) # set a seed so that the resu"
   ],
   "metadata": {
    "collapsed": false,
    "pycharm": {
     "name": "#%%\n"
    }
   }
  },
  {
   "cell_type": "markdown",
   "source": [
    "Let's make the activation functions"
   ],
   "metadata": {
    "collapsed": false,
    "pycharm": {
     "name": "#%% md\n"
    }
   }
  },
  {
   "cell_type": "code",
   "execution_count": 2,
   "outputs": [],
   "source": [
    "def ReLU(x):\n",
    "    return x * (x > 0)\n",
    "\n",
    "\n",
    "def ReLU_derivative(x):\n",
    "    return x >= 0\n",
    "\n",
    "\n",
    "def tanh_out(x):\n",
    "    return np.tanh(x)/2.00001+0.5"
   ],
   "metadata": {
    "collapsed": false,
    "pycharm": {
     "name": "#%%\n"
    }
   }
  },
  {
   "cell_type": "markdown",
   "source": [
    "# 2 - Dataset\n",
    "First, let's get the dataset you will work on. The following code will load a \"flower\" 2-class dataset into variables X and Y."
   ],
   "metadata": {
    "collapsed": false,
    "pycharm": {
     "name": "#%% md\n"
    }
   }
  },
  {
   "cell_type": "code",
   "execution_count": 3,
   "outputs": [],
   "source": [
    "def load_dataset():\n",
    "    train_dataset = h5py.File('train_catvnoncat.h5', \"r\")\n",
    "    train_set_x_orig = np.array(train_dataset[\"train_set_x\"][:])\n",
    "    train_set_y_orig = np.array(train_dataset[\"train_set_y\"][:])\n",
    "\n",
    "    test_dataset = h5py.File('test_catvnoncat.h5', \"r\")\n",
    "    test_set_x_orig = np.array(test_dataset[\"test_set_x\"][:])\n",
    "    test_set_y_orig = np.array(test_dataset[\"test_set_y\"][:])\n",
    "\n",
    "    classes = np.array(test_dataset[\"list_classes\"][:])\n",
    "\n",
    "    train_set_y_orig = train_set_y_orig.reshape((1, train_set_y_orig.shape[0]))\n",
    "    test_set_y_orig = test_set_y_orig.reshape((1, test_set_y_orig.shape[0]))\n",
    "\n",
    "    return train_set_x_orig, train_set_y_orig, test_set_x_orig, test_set_y_orig, classes"
   ],
   "metadata": {
    "collapsed": false,
    "pycharm": {
     "name": "#%%\n"
    }
   }
  },
  {
   "cell_type": "code",
   "execution_count": 4,
   "outputs": [],
   "source": [
    "train_set_x_orig, train_set_y, test_set_x_orig, test_set_y, classes = load_dataset()"
   ],
   "metadata": {
    "collapsed": false,
    "pycharm": {
     "name": "#%%\n"
    }
   }
  },
  {
   "cell_type": "code",
   "execution_count": 5,
   "outputs": [
    {
     "name": "stdout",
     "output_type": "stream",
     "text": [
      "y = [0], it's a 'non-cat' picture.\n"
     ]
    },
    {
     "data": {
      "text/plain": "<Figure size 432x288 with 1 Axes>",
      "image/png": "[encoded data removed]"
     },
     "metadata": {
      "needs_background": "light"
     },
     "output_type": "display_data"
    }
   ],
   "source": [
    "index = 64\n",
    "plt.imshow(train_set_x_orig[index])\n",
    "print (\"y = \" + str(train_set_y[:, index]) + \", it's a '\" + classes[np.squeeze(train_set_y[:, index])].decode(\"utf-8\") +  \"' picture.\")"
   ],
   "metadata": {
    "collapsed": false,
    "pycharm": {
     "name": "#%%\n"
    }
   }
  },
  {
   "cell_type": "code",
   "execution_count": 6,
   "outputs": [
    {
     "name": "stdout",
     "output_type": "stream",
     "text": [
      "Number of training examples: m_train = 209\n",
      "Number of testing examples: m_test = 50\n",
      "Height/Width of each image: num_px = 64\n",
      "Each image is of size: (64, 64, 3)\n",
      "train_set_x shape: (209, 64, 64, 3)\n",
      "train_set_y shape: (1, 209)\n",
      "test_set_x shape: (50, 64, 64, 3)\n",
      "test_set_y shape: (1, 50)\n"
     ]
    }
   ],
   "source": [
    "m_train = len(train_set_x_orig)\n",
    "m_test = len(test_set_x_orig)\n",
    "num_px = train_set_x_orig.shape[1]\n",
    "\n",
    "print (\"Number of training examples: m_train = \" + str(m_train))\n",
    "print (\"Number of testing examples: m_test = \" + str(m_test))\n",
    "print (\"Height/Width of each image: num_px = \" + str(num_px))\n",
    "print (\"Each image is of size: (\" + str(num_px) + \", \" + str(num_px) + \", 3)\")\n",
    "print (\"train_set_x shape: \" + str(train_set_x_orig.shape))\n",
    "print (\"train_set_y shape: \" + str(train_set_y.shape))\n",
    "print (\"test_set_x shape: \" + str(test_set_x_orig.shape))\n",
    "print (\"test_set_y shape: \" + str(test_set_y.shape))"
   ],
   "metadata": {
    "collapsed": false,
    "pycharm": {
     "name": "#%%\n"
    }
   }
  },
  {
   "cell_type": "code",
   "execution_count": 7,
   "outputs": [
    {
     "name": "stdout",
     "output_type": "stream",
     "text": [
      "train_set_x_flatten shape: (12288, 209)\n",
      "train_set_y shape: (1, 209)\n",
      "test_set_x_flatten shape: (12288, 50)\n",
      "test_set_y shape: (1, 50)\n",
      "sanity check after reshaping: [17 31 56 22 33]\n"
     ]
    }
   ],
   "source": [
    "train_set_x_flatten=train_set_x_orig.reshape(train_set_x_orig.shape[0], -1).T\n",
    "test_set_x_flatten=test_set_x_orig.reshape(test_set_x_orig.shape[0], -1).T\n",
    "\n",
    "print (\"train_set_x_flatten shape: \" + str(train_set_x_flatten.shape))\n",
    "print (\"train_set_y shape: \" + str(train_set_y.shape))\n",
    "print (\"test_set_x_flatten shape: \" + str(test_set_x_flatten.shape))\n",
    "print (\"test_set_y shape: \" + str(test_set_y.shape))\n",
    "print (\"sanity check after reshaping: \" + str(train_set_x_flatten[0:5,0]))"
   ],
   "metadata": {
    "collapsed": false,
    "pycharm": {
     "name": "#%%\n"
    }
   }
  },
  {
   "cell_type": "markdown",
   "source": [
    "To represent color images, the red, green and blue channels (RGB) must be specified for each pixel, and so the pixel value is actually a vector of three numbers ranging from 0 to 255.\n",
    "One common preprocessing step in machine learning is to center and standardize your dataset, meaning that you substract the mean of the whole numpy array from each example, and then divide each example by the standard deviation of the whole numpy array. But for picture datasets, it is simpler and more convenient and works almost as well to just divide every row of the dataset by 255 (the maximum value of a pixel channel).\n",
    "\n",
    "Let’s standardize our dataset."
   ],
   "metadata": {
    "collapsed": false,
    "pycharm": {
     "name": "#%% md\n"
    }
   }
  },
  {
   "cell_type": "code",
   "execution_count": 8,
   "outputs": [],
   "source": [
    "train_set_x = train_set_x_flatten/255.\n",
    "test_set_x = test_set_x_flatten/255."
   ],
   "metadata": {
    "collapsed": false,
    "pycharm": {
     "name": "#%%\n"
    }
   }
  },
  {
   "cell_type": "markdown",
   "source": [
    "Visualize the dataset using matplotlib. The data looks like a \"flower\" with some red (label y=0) and some blue (y=1) points. Your goal is to build a model to fit this data. In other words, we want the classifier to define regions as either red or blue."
   ],
   "metadata": {
    "collapsed": false,
    "pycharm": {
     "name": "#%% md\n"
    }
   }
  },
  {
   "cell_type": "code",
   "execution_count": 9,
   "outputs": [
    {
     "name": "stdout",
     "output_type": "stream",
     "text": [
      "The shape of X is: (12288, 209)\n",
      "The shape of Y is: (1, 209)\n"
     ]
    }
   ],
   "source": [
    "X=train_set_x\n",
    "Y=train_set_y\n",
    "shape_X = X.shape\n",
    "shape_Y = Y.shape\n",
    "\n",
    "print ('The shape of X is: ' + str(shape_X))\n",
    "print ('The shape of Y is: ' + str(shape_Y))"
   ],
   "metadata": {
    "collapsed": false,
    "pycharm": {
     "name": "#%%\n"
    }
   }
  },
  {
   "cell_type": "markdown",
   "source": [
    "# 3 - NN model"
   ],
   "metadata": {
    "collapsed": false,
    "pycharm": {
     "name": "#%% md\n"
    }
   }
  },
  {
   "cell_type": "code",
   "execution_count": 10,
   "outputs": [],
   "source": [
    "# GRADED FUNCTION: initialize_parameters\n",
    "\n",
    "def initialize_parameters(n_x, n_h, n_y,zeroes=False):\n",
    "    \"\"\"\n",
    "    Argument:\n",
    "    n_x -- size of the input layer\n",
    "    n_h -- size of the hidden layer\n",
    "    n_y -- size of the output layer\n",
    "\n",
    "    Returns:\n",
    "    params -- python dictionary containing your parameters:\n",
    "                    W1 -- weight matrix of shape (n_h, n_x)\n",
    "                    b1 -- bias vector of shape (n_h, 1)\n",
    "                    W2 -- weight matrix of shape (n_y, n_h)\n",
    "                    b2 -- bias vector of shape (n_y, 1)\n",
    "    \"\"\"\n",
    "\n",
    "    np.random.seed(2) # we set up a seed so that your output matches ours although the initialization is random.\n",
    "\n",
    "    ### START CODE HERE ### (≈ 4 lines of code)\n",
    "    if zeroes:\n",
    "        W1 = np.zeros((n_h, n_x))\n",
    "        b1 = np.zeros((n_h, 1))\n",
    "        W2 = np.zeros((n_y, n_h))\n",
    "        b2 = np.zeros((n_y, 1))\n",
    "    else:\n",
    "        W1 = np.random.randn(n_h, n_x) * 0.01\n",
    "        b1 = np.zeros((n_h, 1))\n",
    "        W2 = np.random.randn(n_y, n_h) * 0.01\n",
    "        b2 = np.zeros((n_y, 1))\n",
    "    ### END CODE HERE ###\n",
    "\n",
    "    assert (W1.shape == (n_h, n_x))\n",
    "    assert (b1.shape == (n_h, 1))\n",
    "    assert (W2.shape == (n_y, n_h))\n",
    "    assert (b2.shape == (n_y, 1))\n",
    "\n",
    "    parameters = {\"W1\": W1,\n",
    "                  \"b1\": b1,\n",
    "                  \"W2\": W2,\n",
    "                  \"b2\": b2}\n",
    "\n",
    "    return parameters"
   ],
   "metadata": {
    "collapsed": false,
    "pycharm": {
     "name": "#%%\n"
    }
   }
  },
  {
   "cell_type": "code",
   "execution_count": 11,
   "outputs": [],
   "source": [
    "# GRADED FUNCTION: forward_propagation\n",
    "\n",
    "def forward_propagation(X, parameters,active_1,active_2):\n",
    "    \"\"\"\n",
    "    Argument:\n",
    "    X -- input data of size (n_x, m)\n",
    "    parameters -- python dictionary containing your parameters (output of initialization function)\n",
    "\n",
    "    Returns:\n",
    "    A2 -- The sigmoid output of the second activation\n",
    "    cache -- a dictionary containing \"Z1\", \"A1\", \"Z2\" and \"A2\"\n",
    "    \"\"\"\n",
    "    # Retrieve each parameter from the dictionary \"parameters\"\n",
    "    ### START CODE HERE ### (≈ 4 lines of code)\n",
    "    W1 = parameters[\"W1\"]\n",
    "    b1 = parameters[\"b1\"]\n",
    "    W2 = parameters[\"W2\"]\n",
    "    b2 = parameters[\"b2\"]\n",
    "    ### END CODE HERE ###\n",
    "\n",
    "    # Implement Forward Propagation to calculate A2 (probabilities)\n",
    "    ### START CODE HERE ### (≈ 4 lines of code)\n",
    "    Z1 = np.dot(W1, X) + b1\n",
    "    A1 = active_1(Z1)\n",
    "    Z2 = np.dot(W2, A1) + b2\n",
    "    A2 = active_2(Z2)\n",
    "    ### END CODE HERE ###\n",
    "\n",
    "    assert(A2.shape == (1, X.shape[1]))\n",
    "\n",
    "    cache = {\"Z1\": Z1,\n",
    "             \"A1\": A1,\n",
    "             \"Z2\": Z2,\n",
    "             \"A2\": A2}\n",
    "\n",
    "    return A2, cache"
   ],
   "metadata": {
    "collapsed": false,
    "pycharm": {
     "name": "#%%\n"
    }
   }
  },
  {
   "cell_type": "code",
   "execution_count": 12,
   "outputs": [],
   "source": [
    "# GRADED FUNCTION: compute_cost\n",
    "\n",
    "def compute_cost(A2, Y, parameters):\n",
    "    \"\"\"\n",
    "    Computes the cross-entropy cost given in equation (13)\n",
    "\n",
    "    Arguments:\n",
    "    A2 -- The sigmoid output of the second activation, of shape (1, number of examples)\n",
    "    Y -- \"true\" labels vector of shape (1, number of examples)\n",
    "    parameters -- python dictionary containing your parameters W1, b1, W2 and b2\n",
    "    [Note that the parameters argument is not used in this function,\n",
    "    but the auto-grader currently expects this parameter.\n",
    "    Future version of this notebook will fix both the notebook\n",
    "    and the auto-grader so that `parameters` is not needed.\n",
    "    For now, please include `parameters` in the function signature,\n",
    "    and also when invoking this function.]\n",
    "\n",
    "    Returns:\n",
    "    cost -- cross-entropy cost given equation (13)\n",
    "\n",
    "    \"\"\"\n",
    "\n",
    "    m = Y.shape[1] # number of example\n",
    "\n",
    "    # Compute the cross-entropy cost\n",
    "    ### START CODE HERE ### (≈ 2 lines of code)\n",
    "    logprobs = np.multiply(np.log(A2),Y) + np.multiply(np.log(1-A2), 1-Y)\n",
    "    cost = - np.sum(logprobs) / m\n",
    "    ### END CODE HERE ###\n",
    "\n",
    "    cost = float(np.squeeze(cost))  # makes sure cost is the dimension we expect.\n",
    "    assert(isinstance(cost, float))\n",
    "\n",
    "    return cost"
   ],
   "metadata": {
    "collapsed": false,
    "pycharm": {
     "name": "#%%\n"
    }
   }
  },
  {
   "cell_type": "code",
   "execution_count": 13,
   "outputs": [],
   "source": [
    "# GRADED FUNCTION: backward_propagation\n",
    "\n",
    "def backward_propagation(parameters, cache, X, Y,active_1,active_2):\n",
    "    \"\"\"\n",
    "    Implement the backward propagation using the instructions above.\n",
    "\n",
    "    Arguments:\n",
    "    parameters -- python dictionary containing our parameters\n",
    "    cache -- a dictionary containing \"Z1\", \"A1\", \"Z2\" and \"A2\".\n",
    "    X -- input data of shape (2, number of examples)\n",
    "    Y -- \"true\" labels vector of shape (1, number of examples)\n",
    "\n",
    "    Returns:\n",
    "    grads -- python dictionary containing your gradients with respect to different parameters\n",
    "    \"\"\"\n",
    "    m = X.shape[1]\n",
    "\n",
    "    # First, retrieve W1 and W2 from the dictionary \"parameters\".\n",
    "    ### START CODE HERE ### (≈ 2 lines of code)\n",
    "    W1 = parameters[\"W1\"]\n",
    "    W2 = parameters[\"W2\"]\n",
    "    ### END CODE HERE ###\n",
    "\n",
    "    # Retrieve also A1 and A2 from dictionary \"cache\".\n",
    "    ### START CODE HERE ### (≈ 2 lines of code)\n",
    "    A1 = cache[\"A1\"]\n",
    "    A2 = cache[\"A2\"]\n",
    "    ### END CODE HERE ###\n",
    "\n",
    "    # Backward propagation: calculate dW1, db1, dW2, db2.\n",
    "    ### START CODE HERE ### (≈ 6 lines of code, corresponding to 6 equations on slide above)\n",
    "    dZ2 = A2 - Y\n",
    "    dW2 = (1/m) * np.dot(dZ2, A1.T)\n",
    "    db2 = (1/m) * np.sum(dZ2, axis=1, keepdims=True)\n",
    "    if active_1==np.tanh:\n",
    "        dZ1 = np.dot(W2.T, dZ2) * (1 - np.power(A1, 2))\n",
    "    if active_1==ReLU:\n",
    "        dZ1= np.dot(W2.T, dZ2) *ReLU_derivative(A1)\n",
    "    dW1 = (1/m) * np.dot(dZ1, X.T)\n",
    "    db1 = (1/m) * np.sum(dZ1, axis=1, keepdims=True)\n",
    "    ### END CODE HERE ###\n",
    "\n",
    "    grads = {\"dW1\": dW1,\n",
    "             \"db1\": db1,\n",
    "             \"dW2\": dW2,\n",
    "             \"db2\": db2}\n",
    "\n",
    "    return grads"
   ],
   "metadata": {
    "collapsed": false,
    "pycharm": {
     "name": "#%%\n"
    }
   }
  },
  {
   "cell_type": "code",
   "execution_count": 14,
   "outputs": [],
   "source": [
    "# GRADED FUNCTION: update_parameters\n",
    "\n",
    "# def update_parameters(parameters, grads, learning_rate = 1.2):\n",
    "def update_parameters(parameters, grads, learning_rate = 0.01):\n",
    "\n",
    "    \"\"\"\n",
    "    Updates parameters using the gradient descent update rule given above\n",
    "\n",
    "    Arguments:\n",
    "    parameters -- python dictionary containing your parameters\n",
    "    grads -- python dictionary containing your gradients\n",
    "\n",
    "    Returns:\n",
    "    parameters -- python dictionary containing your updated parameters\n",
    "    \"\"\"\n",
    "    # Retrieve each parameter from the dictionary \"parameters\"\n",
    "    ### START CODE HERE ### (≈ 4 lines of code)\n",
    "    W1 = parameters[\"W1\"]\n",
    "    b1 = parameters[\"b1\"]\n",
    "    W2 = parameters[\"W2\"]\n",
    "    b2 = parameters[\"b2\"]\n",
    "    ### END CODE HERE ###\n",
    "\n",
    "    # Retrieve each gradient from the dictionary \"grads\"\n",
    "    ### START CODE HERE ### (≈ 4 lines of code)\n",
    "    dW1 = grads[\"dW1\"]\n",
    "    db1 = grads[\"db1\"]\n",
    "    dW2 = grads[\"dW2\"]\n",
    "    db2 = grads[\"db2\"]\n",
    "    ## END CODE HERE ###\n",
    "\n",
    "    # Update rule for each parameter\n",
    "    ### START CODE HERE ### (≈ 4 lines of code)\n",
    "    W1 = W1 - learning_rate * dW1\n",
    "    b1 = b1 - learning_rate * db1\n",
    "    W2 = W2 - learning_rate * dW2\n",
    "    b2 = b2 - learning_rate * db2\n",
    "    ### END CODE HERE ###\n",
    "\n",
    "    parameters = {\"W1\": W1,\n",
    "                  \"b1\": b1,\n",
    "                  \"W2\": W2,\n",
    "                  \"b2\": b2}\n",
    "\n",
    "    return parameters"
   ],
   "metadata": {
    "collapsed": false,
    "pycharm": {
     "name": "#%%\n"
    }
   }
  },
  {
   "cell_type": "code",
   "execution_count": 15,
   "outputs": [],
   "source": [
    "# GRADED FUNCTION: nn_model\n",
    "\n",
    "def nn_model(X, Y, n_h=4, active_1=np.tanh,active_2=sigmoid, num_iterations = 10000, print_cost=False, Learning_rates=[0.01],zeroes_initial=False):\n",
    "    \"\"\"\n",
    "    Arguments:\n",
    "    X -- dataset of shape (2, number of examples)\n",
    "    Y -- labels of shape (1, number of examples)\n",
    "    n_h -- size of the hidden layer\n",
    "    num_iterations -- Number of iterations in gradient descent loop\n",
    "    print_cost -- if True, print the cost every 1000 iterations\n",
    "\n",
    "    Returns:\n",
    "    parameters -- parameters learnt by the model. They can then be used to predict.\n",
    "    \"\"\"\n",
    "\n",
    "    np.random.seed(3)\n",
    "    #     np.random.seed(5)\n",
    "\n",
    "    #     n_x = layer_sizes(X, Y)[0]\n",
    "    #     n_y = layer_sizes(X, Y)[2]\n",
    "\n",
    "\n",
    "    n_x = X.shape[0] # size of input layer\n",
    "    n_y = Y.shape[0] # size of output layer\n",
    "\n",
    "    # Initialize parameters\n",
    "    ### START CODE HERE ### (≈ 1 line of code)\n",
    "    parameters = initialize_parameters(n_x, n_h, n_y,zeroes_initial)\n",
    "    ### END CODE HERE ###\n",
    "\n",
    "    # Loop (gradient descent)\n",
    "    costs=list()\n",
    "\n",
    "    k=-1\n",
    "    Mod=np.ceil(num_iterations/len(Learning_rates))\n",
    "    #     Mod=int(num_iterations/len(Learning_rates))\n",
    "\n",
    "    learning_rate=Learning_rates[0]\n",
    "\n",
    "\n",
    "    for i in range(0, num_iterations):\n",
    "\n",
    "        ### START CODE HERE ### (≈ 4 lines of code)\n",
    "        # Forward propagation. Inputs: \"X, parameters\". Outputs: \"A2, cache\".\n",
    "        A2, cache = forward_propagation(X, parameters,active_1,active_2)\n",
    "\n",
    "        # Cost function. Inputs: \"A2, Y, parameters\". Outputs: \"cost\".\n",
    "        cost = compute_cost(A2, Y, parameters)\n",
    "\n",
    "        # Backpropagation. Inputs: \"parameters, cache, X, Y\". Outputs: \"grads\".\n",
    "        grads = backward_propagation(parameters, cache, X, Y,active_1,active_2)\n",
    "\n",
    "        # Gradient descent parameter update. Inputs: \"parameters, grads\". Outputs: \"parameters\".\n",
    "\n",
    "        if i%Mod==0:\n",
    "            k+=1\n",
    "            learning_rate=Learning_rates[k]\n",
    "        parameters = update_parameters(parameters, grads,learning_rate)\n",
    "\n",
    "        ### END CODE HERE ###\n",
    "\n",
    "        # Print the cost every 1000 iterations\n",
    "        #         if print_cost and i % 1000 == 0:\n",
    "        if print_cost and i % 500 == 0:\n",
    "            print (\"Cost after iteration %i: %f\" %(i, cost))\n",
    "\n",
    "        if i%100==0:\n",
    "            costs.append(cost)\n",
    "\n",
    "\n",
    "    return (np.squeeze(costs),parameters)"
   ],
   "metadata": {
    "collapsed": false,
    "pycharm": {
     "name": "#%%\n"
    }
   }
  },
  {
   "cell_type": "code",
   "execution_count": 16,
   "outputs": [],
   "source": [
    "# GRADED FUNCTION: predict\n",
    "\n",
    "def predict(parameters, X,active_1=np.tanh,active_2=sigmoid):\n",
    "    \"\"\"\n",
    "    Using the learned parameters, predicts a class for each example in X\n",
    "\n",
    "    Arguments:\n",
    "    parameters -- python dictionary containing your parameters\n",
    "    X -- input data of size (n_x, m)\n",
    "\n",
    "    Returns\n",
    "    predictions -- vector of predictions of our model (red: 0 / blue: 1)\n",
    "    \"\"\"\n",
    "\n",
    "    # Computes probabilities using forward propagation, and classifies to 0/1 using 0.5 as the threshold.\n",
    "    ### START CODE HERE ### (≈ 2 lines of code)\n",
    "    A2, cache = forward_propagation(X, parameters,active_1,active_2)\n",
    "    predictions = (A2 > 0.5).astype('int')\n",
    "    ### END CODE HERE ###\n",
    "\n",
    "    return predictions"
   ],
   "metadata": {
    "collapsed": false,
    "pycharm": {
     "name": "#%%\n"
    }
   }
  },
  {
   "cell_type": "code",
   "execution_count": 17,
   "outputs": [],
   "source": [
    "def plt_costs(costs,label):\n",
    "    plt.plot(costs, label=label)\n",
    "    plt.ylabel('cost')\n",
    "    plt.xlabel('iterations (per hundreds)')\n",
    "    legend = plt.legend(loc='upper center', shadow=True)\n",
    "    frame = legend.get_frame()\n",
    "    frame.set_facecolor('0.90')"
   ],
   "metadata": {
    "collapsed": false,
    "pycharm": {
     "name": "#%%\n"
    }
   }
  },
  {
   "cell_type": "code",
   "execution_count": 18,
   "outputs": [],
   "source": [
    "def print_accuracy(parameters,activ_1,activ_2):\n",
    "    predictions = predict(parameters, X,activ_1,activ_2)\n",
    "    print ('Train accuracy: %d' % float((np.dot(Y,predictions.T) + np.dot(1-Y,1-predictions.T))/float(Y.size)*100) + '%')\n",
    "    predictions = predict(parameters, test_set_x,activ_1,activ_2)\n",
    "    print ('Test accuracy: %d' % float((np.dot(test_set_y,predictions.T) + np.dot(1-test_set_y,1-predictions.T))/float(test_set_y.size)*100) + '%')\n",
    "    print()"
   ],
   "metadata": {
    "collapsed": false,
    "pycharm": {
     "name": "#%%\n"
    }
   }
  },
  {
   "cell_type": "markdown",
   "source": [
    "Parametrs"
   ],
   "metadata": {
    "collapsed": false,
    "pycharm": {
     "name": "#%% md\n"
    }
   }
  },
  {
   "cell_type": "code",
   "execution_count": 19,
   "outputs": [
    {
     "name": "stdout",
     "output_type": "stream",
     "text": [
      "tanh+sigmoid\n",
      "Cost after iteration 0: 0.695140\n",
      "Cost after iteration 500: 0.547163\n",
      "Cost after iteration 1000: 0.355807\n",
      "Cost after iteration 1500: 0.159346\n",
      "Cost after iteration 2000: 0.094139\n",
      "Cost after iteration 2500: 0.056281\n",
      "Cost after iteration 3000: 0.040911\n",
      "Cost after iteration 3500: 0.031569\n",
      "Cost after iteration 4000: 0.025181\n",
      "Cost after iteration 4500: 0.020740\n",
      "Cost after iteration 5000: 0.017623\n",
      "Train accuracy: 100%\n",
      "Test accuracy: 68%\n",
      "\n",
      "ReLU+sigmoid\n",
      "Cost after iteration 0: 0.693863\n",
      "Cost after iteration 500: 0.525143\n",
      "Cost after iteration 1000: 0.495579\n",
      "Cost after iteration 1500: 0.479777\n",
      "Cost after iteration 2000: 0.462702\n",
      "Cost after iteration 2500: 0.440138\n",
      "Cost after iteration 3000: 0.335570\n",
      "Cost after iteration 3500: 0.234821\n",
      "Cost after iteration 4000: 0.225002\n",
      "Cost after iteration 4500: 0.121076\n",
      "Cost after iteration 5000: 0.071977\n",
      "Train accuracy: 97%\n",
      "Test accuracy: 76%\n",
      "\n",
      "tanh+tanh\n",
      "Cost after iteration 0: 0.697173\n",
      "Cost after iteration 500: 0.494330\n",
      "Cost after iteration 1000: 0.306493\n",
      "Cost after iteration 1500: 0.120763\n",
      "Cost after iteration 2000: 0.060908\n",
      "Cost after iteration 2500: 0.032548\n",
      "Cost after iteration 3000: 0.021676\n",
      "Cost after iteration 3500: 0.016131\n",
      "Cost after iteration 4000: 0.012292\n",
      "Cost after iteration 4500: 0.009895\n",
      "Cost after iteration 5000: 0.008351\n",
      "Train accuracy: 100%\n",
      "Test accuracy: 70%\n",
      "\n",
      "ReLU+tanh\n",
      "Cost after iteration 0: 0.694587\n",
      "Cost after iteration 500: 0.539156\n",
      "Cost after iteration 1000: 0.520021\n",
      "Cost after iteration 1500: 0.487875\n",
      "Cost after iteration 2000: 0.456005\n",
      "Cost after iteration 2500: 0.419103\n",
      "Cost after iteration 3000: 0.363220\n",
      "Cost after iteration 3500: 0.234637\n",
      "Cost after iteration 4000: 0.145963\n",
      "Cost after iteration 4500: 0.079232\n",
      "Cost after iteration 5000: 0.059842\n",
      "Train accuracy: 97%\n",
      "Test accuracy: 76%\n",
      "\n"
     ]
    }
   ],
   "source": [
    "#Print accuracy\n",
    "\n",
    "print(\"tanh+sigmoid\")\n",
    "costs1, parameters1 = nn_model(X, Y, n_h = 4, active_1=np.tanh,active_2=sigmoid, num_iterations = 5001, print_cost=True,Learning_rates=[[0.01]],zeroes_initial=False)\n",
    "print_accuracy(parameters1, activ_1=np.tanh,activ_2=sigmoid)\n",
    "\n",
    "\n",
    "print(\"ReLU+sigmoid\")\n",
    "costs2, parameters2 = nn_model(X, Y, n_h = 4, active_1=ReLU,active_2=sigmoid, num_iterations = 5001, print_cost=True,Learning_rates=[[0.01]],zeroes_initial=False)\n",
    "print_accuracy(parameters2, activ_1=ReLU,activ_2=sigmoid)\n",
    "\n",
    "\n",
    "print(\"tanh+tanh\")\n",
    "costs3, parameters3 = nn_model(X, Y, n_h = 4, active_1=np.tanh,active_2=tanh_out, num_iterations = 5001, print_cost=True,Learning_rates=[[0.01]],zeroes_initial=False)\n",
    "print_accuracy(parameters3, activ_1=np.tanh,activ_2=tanh_out)\n",
    "\n",
    "\n",
    "print(\"ReLU+tanh\")\n",
    "costs4, parameters4 = nn_model(X, Y, n_h = 4, active_1=ReLU,active_2=tanh_out, num_iterations = 5001, print_cost=True,Learning_rates=[[0.01]],zeroes_initial=False)\n",
    "print_accuracy(parameters4, activ_1=ReLU,activ_2=tanh_out)"
   ],
   "metadata": {
    "collapsed": false,
    "pycharm": {
     "name": "#%%\n"
    }
   }
  },
  {
   "cell_type": "code",
   "execution_count": 20,
   "outputs": [
    {
     "data": {
      "text/plain": "<Figure size 432x288 with 1 Axes>",
      "image/png": "[encoded data removed]"
     },
     "metadata": {
      "needs_background": "light"
     },
     "output_type": "display_data"
    }
   ],
   "source": [
    "plt_costs(costs1,\"tanh, sigmoid\")\n",
    "plt_costs(costs2,\"ReLU, sigmoid\")\n",
    "plt_costs(costs3,\"tanh, tanh\")\n",
    "plt_costs(costs4,\"ReLU, tanh\")\n",
    "plt.title(\"Activation functions\")\n",
    "plt.grid()\n",
    "plt.show()"
   ],
   "metadata": {
    "collapsed": false,
    "pycharm": {
     "name": "#%%\n"
    }
   }
  },
  {
   "cell_type": "code",
   "execution_count": 21,
   "outputs": [
    {
     "name": "stdout",
     "output_type": "stream",
     "text": [
      "Cost after iteration 0: 0.693147\n",
      "Cost after iteration 500: 0.648432\n",
      "Cost after iteration 1000: 0.644415\n",
      "Cost after iteration 1500: 0.644019\n",
      "Cost after iteration 2000: 0.643978\n",
      "Cost after iteration 2500: 0.643974\n",
      "Cost after iteration 3000: 0.643974\n",
      "Cost after iteration 3500: 0.643974\n",
      "Cost after iteration 4000: 0.643974\n",
      "Cost after iteration 4500: 0.643974\n",
      "Cost after iteration 5000: 0.643974\n",
      "Train accuracy: 65%\n",
      "Test accuracy: 34%\n",
      "\n",
      "Cost after iteration 0: 0.693863\n",
      "Cost after iteration 500: 0.525143\n",
      "Cost after iteration 1000: 0.495579\n",
      "Cost after iteration 1500: 0.479777\n",
      "Cost after iteration 2000: 0.462702\n",
      "Cost after iteration 2500: 0.440138\n",
      "Cost after iteration 3000: 0.335570\n",
      "Cost after iteration 3500: 0.234821\n",
      "Cost after iteration 4000: 0.225002\n",
      "Cost after iteration 4500: 0.121076\n",
      "Cost after iteration 5000: 0.071977\n",
      "Train accuracy: 97%\n",
      "Test accuracy: 76%\n",
      "\n"
     ]
    },
    {
     "data": {
      "text/plain": "<Figure size 432x288 with 1 Axes>",
      "image/png": "[encoded data removed]"
     },
     "metadata": {
      "needs_background": "light"
     },
     "output_type": "display_data"
    }
   ],
   "source": [
    "costs1, parameters1 = nn_model(X, Y, n_h = 4, active_1=ReLU,active_2=sigmoid, num_iterations = 5001, print_cost=True,Learning_rates=[[0.01]],zeroes_initial=True)\n",
    "print_accuracy(parameters1, activ_1=ReLU,activ_2=sigmoid)\n",
    "\n",
    "costs2, parameters2 = nn_model(X, Y, n_h = 4, active_1=ReLU,active_2=sigmoid, num_iterations = 5001, print_cost=True,Learning_rates=[[0.01]],zeroes_initial=False)\n",
    "print_accuracy(parameters2, activ_1=ReLU,activ_2=sigmoid)\n",
    "\n",
    "plt_costs(costs1,\"Zeroes initialization\")\n",
    "plt_costs(costs2,\"Random initialization\")\n",
    "plt.title(\"Weight initializtion\")\n",
    "plt.show()"
   ],
   "metadata": {
    "collapsed": false,
    "pycharm": {
     "name": "#%%\n"
    }
   }
  },
  {
   "cell_type": "code",
   "execution_count": 22,
   "outputs": [
    {
     "name": "stdout",
     "output_type": "stream",
     "text": [
      "learning rate 0.0001\n",
      "Cost after iteration 0: 0.697173\n",
      "Cost after iteration 500: 0.692553\n",
      "Cost after iteration 1000: 0.688669\n",
      "Cost after iteration 1500: 0.685169\n",
      "Cost after iteration 2000: 0.681816\n",
      "Cost after iteration 2500: 0.678477\n",
      "Cost after iteration 3000: 0.675111\n",
      "Cost after iteration 3500: 0.671744\n",
      "Cost after iteration 4000: 0.668443\n",
      "Cost after iteration 4500: 0.665284\n",
      "Cost after iteration 5000: 0.662338\n",
      "Train accuracy: 65%\n",
      "Test accuracy: 34%\n",
      "\n",
      "learning rate 0.001\n",
      "Cost after iteration 0: 0.697173\n",
      "Cost after iteration 500: 0.662353\n",
      "Cost after iteration 1000: 0.646697\n",
      "Cost after iteration 1500: 0.641620\n",
      "Cost after iteration 2000: 0.634278\n",
      "Cost after iteration 2500: 0.622628\n",
      "Cost after iteration 3000: 0.605036\n",
      "Cost after iteration 3500: 0.582676\n",
      "Cost after iteration 4000: 0.556207\n",
      "Cost after iteration 4500: 0.526138\n",
      "Cost after iteration 5000: 0.493252\n",
      "Train accuracy: 77%\n",
      "Test accuracy: 54%\n",
      "\n",
      "learning rate 0.01\n",
      "Cost after iteration 0: 0.697173\n",
      "Cost after iteration 500: 0.494330\n",
      "Cost after iteration 1000: 0.306493\n",
      "Cost after iteration 1500: 0.120763\n",
      "Cost after iteration 2000: 0.060908\n",
      "Cost after iteration 2500: 0.032548\n",
      "Cost after iteration 3000: 0.021676\n",
      "Cost after iteration 3500: 0.016131\n",
      "Cost after iteration 4000: 0.012292\n",
      "Cost after iteration 4500: 0.009895\n",
      "Cost after iteration 5000: 0.008351\n",
      "Train accuracy: 100%\n",
      "Test accuracy: 70%\n",
      "\n",
      "learning rate 0.1\n",
      "Cost after iteration 0: 0.697173\n",
      "Cost after iteration 500: 0.273032\n",
      "Cost after iteration 1000: 0.202430\n",
      "Cost after iteration 1500: 0.297216\n",
      "Cost after iteration 2000: 0.275608\n",
      "Cost after iteration 2500: 0.597264\n",
      "Cost after iteration 3000: 0.634948\n",
      "Cost after iteration 3500: 0.631666\n",
      "Cost after iteration 4000: 0.631111\n",
      "Cost after iteration 4500: 0.634607\n",
      "Cost after iteration 5000: 0.606138\n",
      "Train accuracy: 66%\n",
      "Test accuracy: 34%\n",
      "\n"
     ]
    }
   ],
   "source": [
    "print(\"learning rate 0.0001\")\n",
    "costs1, parameters1 = nn_model(X, Y, n_h = 4, active_1=np.tanh,active_2=tanh_out, num_iterations = 5001, print_cost=True,Learning_rates=[[0.0001]],zeroes_initial=False)\n",
    "print_accuracy(parameters1, activ_1=np.tanh,activ_2=tanh_out)\n",
    "\n",
    "\n",
    "print(\"learning rate 0.001\")\n",
    "costs2, parameters2 = nn_model(X, Y, n_h = 4, active_1=np.tanh,active_2=tanh_out, num_iterations = 5001, print_cost=True,Learning_rates=[[0.001]],zeroes_initial=False)\n",
    "print_accuracy(parameters2, activ_1=np.tanh,activ_2=tanh_out)\n",
    "\n",
    "\n",
    "print(\"learning rate 0.01\")\n",
    "costs3, parameters3 = nn_model(X, Y, n_h = 4, active_1=np.tanh,active_2=tanh_out, num_iterations = 5001, print_cost=True,Learning_rates=[[0.01]],zeroes_initial=False)\n",
    "print_accuracy(parameters3, activ_1=np.tanh,activ_2=tanh_out)\n",
    "\n",
    "\n",
    "print(\"learning rate 0.1\")\n",
    "costs4, parameters4 = nn_model(X, Y, n_h = 4, active_1=np.tanh,active_2=tanh_out, num_iterations = 5001, print_cost=True,Learning_rates=[[0.1]],zeroes_initial=False)\n",
    "print_accuracy(parameters4, activ_1=np.tanh,activ_2=tanh_out)"
   ],
   "metadata": {
    "collapsed": false,
    "pycharm": {
     "name": "#%%\n"
    }
   }
  },
  {
   "cell_type": "code",
   "execution_count": 23,
   "outputs": [
    {
     "data": {
      "text/plain": "<Figure size 432x288 with 1 Axes>",
      "image/png": "[encoded data removed]"
     },
     "metadata": {
      "needs_background": "light"
     },
     "output_type": "display_data"
    }
   ],
   "source": [
    "plt_costs(costs1,\"learning rate 0.0001\")\n",
    "plt_costs(costs2,\"learning rate 0.001\")\n",
    "plt_costs(costs3,\"learning rate 0.01\")\n",
    "plt_costs(costs4,\"learning rate 0.1\")\n",
    "plt.title(\"Activation functions\")\n",
    "plt.grid()\n",
    "plt.show()"
   ],
   "metadata": {
    "collapsed": false,
    "pycharm": {
     "name": "#%%\n"
    }
   }
  },
  {
   "cell_type": "code",
   "execution_count": 24,
   "outputs": [
    {
     "name": "stdout",
     "output_type": "stream",
     "text": [
      "n_h = 4\n",
      "Cost after iteration 0: 0.697173\n",
      "Cost after iteration 500: 0.494330\n",
      "Cost after iteration 1000: 0.306493\n",
      "Cost after iteration 1500: 0.120763\n",
      "Cost after iteration 2000: 0.060908\n",
      "Cost after iteration 2500: 0.032548\n",
      "Cost after iteration 3000: 0.021676\n",
      "Cost after iteration 3500: 0.016131\n",
      "Cost after iteration 4000: 0.012292\n",
      "Cost after iteration 4500: 0.009895\n",
      "Cost after iteration 5000: 0.008351\n",
      "Train accuracy: 100%\n",
      "Test accuracy: 70%\n",
      "\n",
      "n_h = 8\n",
      "Cost after iteration 0: 0.696879\n",
      "Cost after iteration 500: 0.477238\n",
      "Cost after iteration 1000: 0.267278\n",
      "Cost after iteration 1500: 0.089477\n",
      "Cost after iteration 2000: 0.042794\n",
      "Cost after iteration 2500: 0.026018\n",
      "Cost after iteration 3000: 0.017960\n",
      "Cost after iteration 3500: 0.013402\n",
      "Cost after iteration 4000: 0.010528\n",
      "Cost after iteration 4500: 0.008512\n",
      "Cost after iteration 5000: 0.007032\n",
      "Train accuracy: 100%\n",
      "Test accuracy: 68%\n",
      "\n",
      "n_h = 16\n",
      "Cost after iteration 0: 0.688986\n",
      "Cost after iteration 500: 0.419309\n",
      "Cost after iteration 1000: 0.237887\n",
      "Cost after iteration 1500: 0.069643\n",
      "Cost after iteration 2000: 0.034701\n",
      "Cost after iteration 2500: 0.021359\n",
      "Cost after iteration 3000: 0.014872\n",
      "Cost after iteration 3500: 0.011191\n",
      "Cost after iteration 4000: 0.008868\n",
      "Cost after iteration 4500: 0.007289\n",
      "Cost after iteration 5000: 0.006154\n",
      "Train accuracy: 100%\n",
      "Test accuracy: 70%\n",
      "\n",
      "n_h = 32\n",
      "Cost after iteration 0: 0.693919\n",
      "Cost after iteration 500: 0.372114\n",
      "Cost after iteration 1000: 0.222785\n",
      "Cost after iteration 1500: 0.058607\n",
      "Cost after iteration 2000: 0.029299\n",
      "Cost after iteration 2500: 0.018020\n",
      "Cost after iteration 3000: 0.012523\n",
      "Cost after iteration 3500: 0.009400\n",
      "Cost after iteration 4000: 0.007430\n",
      "Cost after iteration 4500: 0.006092\n",
      "Cost after iteration 5000: 0.005132\n",
      "Train accuracy: 100%\n",
      "Test accuracy: 70%\n",
      "\n"
     ]
    }
   ],
   "source": [
    "print(\"n_h = 4\")\n",
    "costs1, parameters1 = nn_model(X, Y, n_h = 4, active_1=np.tanh,active_2=tanh_out, num_iterations = 5001, print_cost=True,Learning_rates=[[0.01]],zeroes_initial=False)\n",
    "print_accuracy(parameters1, activ_1=np.tanh,activ_2=tanh_out)\n",
    "\n",
    "\n",
    "print(\"n_h = 8\")\n",
    "costs2, parameters2 = nn_model(X, Y, n_h = 8, active_1=np.tanh,active_2=tanh_out, num_iterations = 5001, print_cost=True,Learning_rates=[[0.01]],zeroes_initial=False)\n",
    "print_accuracy(parameters2, activ_1=np.tanh,activ_2=tanh_out)\n",
    "\n",
    "\n",
    "print(\"n_h = 16\")\n",
    "costs3, parameters3 = nn_model(X, Y, n_h = 16, active_1=np.tanh,active_2=tanh_out, num_iterations = 5001, print_cost=True,Learning_rates=[[0.01]],zeroes_initial=False)\n",
    "print_accuracy(parameters3, activ_1=np.tanh,activ_2=tanh_out)\n",
    "\n",
    "\n",
    "print(\"n_h = 32\")\n",
    "costs4, parameters4 = nn_model(X, Y, n_h = 32, active_1=np.tanh,active_2=tanh_out, num_iterations = 5001, print_cost=True,Learning_rates=[[0.01]],zeroes_initial=False)\n",
    "print_accuracy(parameters4, activ_1=np.tanh,activ_2=tanh_out)"
   ],
   "metadata": {
    "collapsed": false,
    "pycharm": {
     "name": "#%%\n"
    }
   }
  },
  {
   "cell_type": "code",
   "execution_count": 25,
   "outputs": [
    {
     "data": {
      "text/plain": "<Figure size 432x288 with 1 Axes>",
      "image/png": "[encoded data removed]"
     },
     "metadata": {
      "needs_background": "light"
     },
     "output_type": "display_data"
    }
   ],
   "source": [
    "plt_costs(costs1,\"n_h = 4\")\n",
    "plt_costs(costs2,\"n_h = 8\")\n",
    "plt_costs(costs3,\"n_h = 16\")\n",
    "plt_costs(costs4,\"n_h = 32\")\n",
    "plt.title(\"Activation functions\")\n",
    "plt.grid()\n",
    "plt.show()"
   ],
   "metadata": {
    "collapsed": false,
    "pycharm": {
     "name": "#%%\n"
    }
   }
  },
  {
   "cell_type": "code",
   "execution_count": 26,
   "outputs": [
    {
     "name": "stdout",
     "output_type": "stream",
     "text": [
      "learning rate 0.0001, 0.001, 0.01\n",
      "Cost after iteration 0: 0.697173\n",
      "Cost after iteration 500: 0.692553\n",
      "Cost after iteration 1000: 0.688669\n",
      "Cost after iteration 1500: 0.685169\n",
      "Cost after iteration 2000: 0.662359\n",
      "Cost after iteration 2500: 0.646697\n",
      "Cost after iteration 3000: 0.641622\n",
      "Cost after iteration 3500: 0.583167\n",
      "Cost after iteration 4000: 0.375691\n",
      "Cost after iteration 4500: 0.364744\n",
      "Cost after iteration 5000: 0.068641\n",
      "Train accuracy: 99%\n",
      "Test accuracy: 68%\n",
      "\n",
      "learning rate 0.05, 0.025, 0.0125\n",
      "Cost after iteration 0: 0.697173\n",
      "Cost after iteration 500: 0.437103\n",
      "Cost after iteration 1000: 0.346743\n",
      "Cost after iteration 1500: 0.238103\n",
      "Cost after iteration 2000: 0.101182\n",
      "Cost after iteration 2500: 0.095960\n",
      "Cost after iteration 3000: 0.093616\n",
      "Cost after iteration 3500: 0.092245\n",
      "Cost after iteration 4000: 0.090864\n",
      "Cost after iteration 4500: 0.084070\n",
      "Cost after iteration 5000: 0.082683\n",
      "Train accuracy: 96%\n",
      "Test accuracy: 76%\n",
      "\n",
      "learning rate 0.001, 0.005, 0.01\n",
      "Cost after iteration 0: 0.697173\n",
      "Cost after iteration 500: 0.662353\n",
      "Cost after iteration 1000: 0.646697\n",
      "Cost after iteration 1500: 0.641620\n",
      "Cost after iteration 2000: 0.590760\n",
      "Cost after iteration 2500: 0.436024\n",
      "Cost after iteration 3000: 0.268228\n",
      "Cost after iteration 3500: 0.654025\n",
      "Cost after iteration 4000: 0.079115\n",
      "Cost after iteration 4500: 0.042846\n",
      "Cost after iteration 5000: 0.028638\n",
      "Train accuracy: 99%\n",
      "Test accuracy: 70%\n",
      "\n",
      "learning rate 0.01, 0.2, 0.3\n",
      "Cost after iteration 0: 0.697173\n",
      "Cost after iteration 500: 0.494330\n",
      "Cost after iteration 1000: 0.306493\n",
      "Cost after iteration 1500: 0.120763\n",
      "Cost after iteration 2000: 0.641260\n",
      "Cost after iteration 2500: 0.640200\n",
      "Cost after iteration 3000: 0.604321\n",
      "Cost after iteration 3500: 0.609028\n",
      "Cost after iteration 4000: 0.614423\n",
      "Cost after iteration 4500: 0.592355\n",
      "Cost after iteration 5000: 0.624852\n",
      "Train accuracy: 66%\n",
      "Test accuracy: 34%\n",
      "\n"
     ]
    }
   ],
   "source": [
    "print(\"learning rate 0.0001, 0.001, 0.01\")\n",
    "costs1, parameters1 = nn_model(X, Y, n_h = 4, active_1=np.tanh,active_2=tanh_out, num_iterations = 5001, print_cost=True,Learning_rates=[[0.0001], [0.001], [0.01]],zeroes_initial=False)\n",
    "print_accuracy(parameters1, activ_1=np.tanh,activ_2=tanh_out)\n",
    "\n",
    "\n",
    "print(\"learning rate 0.05, 0.025, 0.0125\")\n",
    "costs2, parameters2 = nn_model(X, Y, n_h = 4, active_1=np.tanh,active_2=tanh_out, num_iterations = 5001, print_cost=True,Learning_rates=[[0.05], [0.025], [0.0125]],zeroes_initial=False)\n",
    "print_accuracy(parameters2, activ_1=np.tanh,activ_2=tanh_out)\n",
    "\n",
    "\n",
    "print(\"learning rate 0.001, 0.005, 0.01\")\n",
    "costs3, parameters3 = nn_model(X, Y, n_h = 4, active_1=np.tanh,active_2=tanh_out, num_iterations = 5001, print_cost=True,Learning_rates=[[0.001], [0.005], [0.01]],zeroes_initial=False)\n",
    "print_accuracy(parameters3, activ_1=np.tanh,activ_2=tanh_out)\n",
    "\n",
    "\n",
    "print(\"learning rate 0.01, 0.02, 0.03\")\n",
    "costs4, parameters4 = nn_model(X, Y, n_h = 4, active_1=np.tanh,active_2=tanh_out, num_iterations = 5001, print_cost=True,Learning_rates=[[0.01], [0.02], [0.03]],zeroes_initial=False)\n",
    "print_accuracy(parameters4, activ_1=np.tanh,activ_2=tanh_out)"
   ],
   "metadata": {
    "collapsed": false,
    "pycharm": {
     "name": "#%%\n"
    }
   }
  },
  {
   "cell_type": "code",
   "execution_count": 27,
   "outputs": [
    {
     "data": {
      "text/plain": "<Figure size 432x288 with 1 Axes>",
      "image/png": "[encoded data removed]"
     },
     "metadata": {
      "needs_background": "light"
     },
     "output_type": "display_data"
    }
   ],
   "source": [
    "plt_costs(costs1,\"learning rate 0.0001, 0.001, 0.01\")\n",
    "plt_costs(costs2,\"learning rate 0.05, 0.025, 0.0125\")\n",
    "plt_costs(costs3,\"learning rate 0.001, 0.005, 0.01\")\n",
    "plt_costs(costs4,\"learning rate 0.01, 0.02, 0.03\")\n",
    "plt.title(\"Activation functions\")\n",
    "plt.grid()\n",
    "plt.show()"
   ],
   "metadata": {
    "collapsed": false,
    "pycharm": {
     "name": "#%%\n"
    }
   }
  },
  {
   "cell_type": "code",
   "execution_count": null,
   "outputs": [],
   "source": [],
   "metadata": {
    "collapsed": false,
    "pycharm": {
     "name": "#%%\n"
    }
   }
  }
 ],
 "metadata": {
  "kernelspec": {
   "display_name": "Python 3",
   "language": "python",
   "name": "python3"
  },
  "language_info": {
   "codemirror_mode": {
    "name": "ipython",
    "version": 2
   },
   "file_extension": ".py",
   "mimetype": "text/x-python",
   "name": "python",
   "nbconvert_exporter": "python",
   "pygments_lexer": "ipython2",
   "version": "2.7.6"
  }
 },
 "nbformat": 4,
 "nbformat_minor": 0
}